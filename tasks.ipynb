{
 "cells": [
  {
   "cell_type": "markdown",
   "metadata": {},
   "source": [
    "## Task 1: Binary Representations"
   ]
  },
  {
   "cell_type": "markdown",
   "metadata": {},
   "source": [
    "### Binary Representations Functions\n",
    "\n",
    "#### Function `rotl(x, n=1)`\n",
    "This function rotates the bits in a 32-bit unsigned integer `x` to the left by `n` places. The leftmost bits that are shifted out are reintroduced at the rightmost positions.\n",
    "\n",
    "#### Example\n",
    "```python\n",
    "rotl(0b00000000000000000000000000000001, 1)  # Output: 0b00000000000000000000000000000010"
   ]
  },
  {
   "cell_type": "markdown",
   "metadata": {},
   "source": [
    "#### Function rotr(x, n=1)\n",
    "\n",
    "This function rotates the bits in a 32-bit unsigned integer x to the right by n places. The rightmost bits that are shifted out are reintroduced at the leftmost positions.\n",
    "\n",
    "#### Example\n",
    "```python\n",
    "rotr(0b10000000000000000000000000000000, 1)  # Output: 0b01000000000000000000000000000000"
   ]
  },
  {
   "cell_type": "code",
   "execution_count": 29,
   "metadata": {},
   "outputs": [
    {
     "name": "stdout",
     "output_type": "stream",
     "text": [
      "rotl(0b00000000000000000000000000000001, 1): 0b10\n",
      "rotr(0b00000000000000000000000000000010, 1): 0b1\n",
      "ch(0b1010, 0b1100, 0b0011): 0b1001\n",
      "maj(0b1010, 0b1100, 0b1001): 0b1000\n"
     ]
    }
   ],
   "source": [
    "def rotl(x, n=1):\n",
    "    return ((x << n) & 0xFFFFFFFF) | (x >> (32 - n))\n",
    "\n",
    "def rotr(x, n=1):\n",
    "    return (x >> n) | ((x << (32 - n)) & 0xFFFFFFFF)\n",
    "\n",
    "def ch(x, y, z):\n",
    "    return (x & y) | (~x & z)\n",
    "\n",
    "def maj(x, y, z):\n",
    "    return (x & y) | (x & z) | (y & z)\n",
    "\n",
    "# Example and Tests\n",
    "if __name__ == \"__main__\":\n",
    "    # rotl\n",
    "    print(f\"rotl(0b00000000000000000000000000000001, 1): {bin(rotl(0b00000000000000000000000000000001, 1))}\")\n",
    "    # rotr\n",
    "    print(f\"rotr(0b00000000000000000000000000000010, 1): {bin(rotr(0b00000000000000000000000000000010, 1))}\")\n",
    "    # ch\n",
    "    print(f\"ch(0b1010, 0b1100, 0b0011): {bin(ch(0b1010, 0b1100, 0b0011))}\")\n",
    "    # maj\n",
    "    print(f\"maj(0b1010, 0b1100, 0b1001): {bin(maj(0b1010, 0b1100, 0b1001))}\")"
   ]
  },
  {
   "cell_type": "markdown",
   "metadata": {},
   "source": [
    "## Task 2: Hash Functions"
   ]
  },
  {
   "cell_type": "markdown",
   "metadata": {},
   "source": [
    "#### C Programming Language\n",
    "```c\n",
    "// Computes a hash value for a string\n",
    "unsigned hash(char *s) {\n",
    "    unsigned hashval;\n",
    "    for (hashval = 0; *s != '\\0'; s++)\n",
    "        hashval = *s + 31 * hashval;\n",
    "    return hashval % 101;\n",
    "}"
   ]
  },
  {
   "cell_type": "markdown",
   "metadata": {},
   "source": [
    "#### Python"
   ]
  },
  {
   "cell_type": "code",
   "execution_count": null,
   "metadata": {},
   "outputs": [],
   "source": []
  },
  {
   "cell_type": "markdown",
   "metadata": {},
   "source": [
    "## Task 3: SHA256"
   ]
  },
  {
   "cell_type": "code",
   "execution_count": null,
   "metadata": {},
   "outputs": [],
   "source": []
  },
  {
   "cell_type": "markdown",
   "metadata": {},
   "source": [
    "## Task 4: Prime Numbers"
   ]
  },
  {
   "cell_type": "code",
   "execution_count": 30,
   "metadata": {},
   "outputs": [
    {
     "name": "stdout",
     "output_type": "stream",
     "text": [
      "Method 1\n",
      "1 is not a prime number\n",
      "2 is a prime number\n",
      "5 is a prime number\n",
      "10 is not a prime number\n",
      "343 is not a prime number\n",
      "\n",
      "Method 2\n",
      "Is 2 a prime number? True\n",
      "Is 3 a prime number? True\n",
      "Is 5 a prime number? True\n",
      "Is 7 a prime number? True\n",
      "Is 11 a prime number? True\n",
      "Is 13 a prime number? True\n",
      "Is 17 a prime number? True\n",
      "Is 19 a prime number? True\n",
      "Is 23 a prime number? True\n",
      "Is 29 a prime number? True\n",
      "Is 31 a prime number? True\n",
      "Is 37 a prime number? True\n",
      "Is 41 a prime number? True\n",
      "Is 43 a prime number? True\n",
      "Is 47 a prime number? True\n",
      "Is 53 a prime number? True\n",
      "Is 59 a prime number? True\n",
      "Is 61 a prime number? True\n",
      "Is 67 a prime number? True\n",
      "Is 71 a prime number? True\n",
      "Is 73 a prime number? True\n",
      "Is 79 a prime number? True\n",
      "Is 83 a prime number? True\n",
      "Is 89 a prime number? True\n",
      "Is 97 a prime number? True\n",
      "Is 101 a prime number? True\n",
      "Is 103 a prime number? True\n",
      "Is 107 a prime number? True\n",
      "Is 109 a prime number? True\n",
      "Is 113 a prime number? True\n",
      "Is 127 a prime number? True\n",
      "Is 131 a prime number? True\n",
      "Is 137 a prime number? True\n",
      "Is 139 a prime number? True\n",
      "Is 149 a prime number? True\n",
      "Is 151 a prime number? True\n",
      "Is 157 a prime number? True\n",
      "Is 163 a prime number? True\n",
      "Is 167 a prime number? True\n",
      "Is 173 a prime number? True\n",
      "Is 179 a prime number? True\n",
      "Is 181 a prime number? True\n",
      "Is 191 a prime number? True\n",
      "Is 193 a prime number? True\n",
      "Is 197 a prime number? True\n",
      "Is 199 a prime number? True\n",
      "Is 211 a prime number? True\n",
      "Is 223 a prime number? True\n",
      "Is 227 a prime number? True\n",
      "Is 229 a prime number? True\n",
      "Is 233 a prime number? True\n",
      "Is 239 a prime number? True\n",
      "Is 241 a prime number? True\n",
      "Is 251 a prime number? True\n",
      "Is 257 a prime number? True\n",
      "Is 263 a prime number? True\n",
      "Is 269 a prime number? True\n",
      "Is 271 a prime number? True\n",
      "Is 277 a prime number? True\n",
      "Is 281 a prime number? True\n",
      "Is 283 a prime number? True\n",
      "Is 293 a prime number? True\n",
      "Is 307 a prime number? True\n",
      "Is 311 a prime number? True\n",
      "Is 313 a prime number? True\n",
      "Is 317 a prime number? True\n",
      "Is 331 a prime number? True\n",
      "Is 337 a prime number? True\n",
      "Is 347 a prime number? True\n",
      "Is 349 a prime number? True\n",
      "Is 353 a prime number? True\n",
      "Is 359 a prime number? True\n",
      "Is 367 a prime number? True\n",
      "Is 373 a prime number? True\n",
      "Is 379 a prime number? True\n",
      "Is 383 a prime number? True\n",
      "Is 389 a prime number? True\n",
      "Is 397 a prime number? True\n",
      "Is 401 a prime number? True\n",
      "Is 409 a prime number? True\n",
      "Is 419 a prime number? True\n",
      "Is 421 a prime number? True\n",
      "Is 431 a prime number? True\n",
      "Is 433 a prime number? True\n",
      "Is 439 a prime number? True\n",
      "Is 443 a prime number? True\n",
      "Is 449 a prime number? True\n",
      "Is 457 a prime number? True\n",
      "Is 461 a prime number? True\n",
      "Is 463 a prime number? True\n",
      "Is 467 a prime number? True\n",
      "Is 479 a prime number? True\n",
      "Is 487 a prime number? True\n",
      "Is 491 a prime number? True\n",
      "Is 499 a prime number? True\n",
      "Is 503 a prime number? True\n",
      "Is 509 a prime number? True\n",
      "Is 521 a prime number? True\n",
      "Is 523 a prime number? True\n",
      "Is 541 a prime number? True\n",
      "Is 547 a prime number? True\n",
      "Is 557 a prime number? True\n",
      "Is 563 a prime number? True\n",
      "Is 569 a prime number? True\n",
      "Is 571 a prime number? True\n",
      "Is 577 a prime number? True\n",
      "Is 587 a prime number? True\n",
      "Is 593 a prime number? True\n",
      "Is 599 a prime number? True\n",
      "Is 601 a prime number? True\n",
      "Is 607 a prime number? True\n",
      "Is 613 a prime number? True\n",
      "Is 617 a prime number? True\n",
      "Is 619 a prime number? True\n",
      "Is 631 a prime number? True\n",
      "Is 641 a prime number? True\n",
      "Is 643 a prime number? True\n",
      "Is 647 a prime number? True\n",
      "Is 653 a prime number? True\n",
      "Is 659 a prime number? True\n",
      "Is 661 a prime number? True\n",
      "Is 673 a prime number? True\n",
      "Is 677 a prime number? True\n",
      "Is 683 a prime number? True\n",
      "Is 691 a prime number? True\n",
      "Is 701 a prime number? True\n",
      "Is 709 a prime number? True\n",
      "Is 719 a prime number? True\n",
      "Is 727 a prime number? True\n",
      "Is 733 a prime number? True\n",
      "Is 739 a prime number? True\n",
      "Is 743 a prime number? True\n",
      "Is 751 a prime number? True\n",
      "Is 757 a prime number? True\n",
      "Is 761 a prime number? True\n",
      "Is 769 a prime number? True\n",
      "Is 773 a prime number? True\n",
      "Is 787 a prime number? True\n",
      "Is 797 a prime number? True\n",
      "Is 809 a prime number? True\n",
      "Is 811 a prime number? True\n",
      "Is 821 a prime number? True\n",
      "Is 823 a prime number? True\n",
      "Is 827 a prime number? True\n",
      "Is 829 a prime number? True\n",
      "Is 839 a prime number? True\n",
      "Is 853 a prime number? True\n",
      "Is 857 a prime number? True\n",
      "Is 859 a prime number? True\n",
      "Is 863 a prime number? True\n",
      "Is 877 a prime number? True\n",
      "Is 881 a prime number? True\n",
      "Is 883 a prime number? True\n",
      "Is 887 a prime number? True\n",
      "Is 907 a prime number? True\n",
      "Is 911 a prime number? True\n",
      "Is 919 a prime number? True\n",
      "Is 929 a prime number? True\n",
      "Is 937 a prime number? True\n",
      "Is 941 a prime number? True\n",
      "Is 947 a prime number? True\n",
      "Is 953 a prime number? True\n",
      "Is 967 a prime number? True\n",
      "Is 971 a prime number? True\n",
      "Is 977 a prime number? True\n",
      "Is 983 a prime number? True\n",
      "Is 991 a prime number? True\n",
      "Is 997 a prime number? True\n"
     ]
    }
   ],
   "source": [
    "# Method 1: Check if a number is prime by iterating through possible divisors\n",
    "print(\"Method 1\")\n",
    "\n",
    "# https://www.geeksforgeeks.org/python-program-to-check-whether-a-number-is-prime-or-not/\n",
    "\n",
    "# List of numbers to check\n",
    "numbers = [1, 2, 5, 10, 343]\n",
    "\n",
    "for num in numbers:\n",
    "    # Negative numbers, 0 and 1 are not primes\n",
    "    if num > 1:\n",
    "        # Iterate from 2 to n // 2\n",
    "        for i in range(2, (num // 2) + 1):\n",
    "            # If num is divisible by any number between 2 and n / 2, it is not prime\n",
    "            if (num % i) == 0:\n",
    "                print(num, \"is not a prime number\")\n",
    "                break\n",
    "        else:\n",
    "            print(num, \"is a prime number\")\n",
    "    else:\n",
    "        print(num, \"is not a prime number\")\n",
    "\n",
    "print(\"\\nMethod 2\")\n",
    "\n",
    "# Method 2: Check if 'num' is a prime number by checking its presence in 'primeNos'\n",
    "# Assuming 'primeNos' is a predefined list of prime numbers\n",
    "primeNos = [2, 3, 5, 7, 11, 13, 17, 19, 23, 29, 31, 37, 41, 43, 47, 53, 59, 61, 67, 71, 73, 79, 83, 89, 97, 101, 103, 107, 109, 113, 127, 131, 137, 139, 149, 151, 157, 163, 167, 173, 179, 181, 191, 193, 197, 199, 211, 223, 227, 229, 233, 239, 241, 251, 257, 263, 269, 271, 277, 281, 283, 293, 307, 311, 313, 317, 331, 337, 347, 349, 353, 359, 367, 373, 379, 383, 389, 397, 401, 409, 419, 421, 431, 433, 439, 443, 449, 457, 461, 463, 467, 479, 487, 491, 499, 503, 509, 521, 523, 541, 547, 557, 563, 569, 571, 577, 587, 593, 599, 601, 607, 613, 617, 619, 631, 641, 643, 647, 653, 659, 661, 673, 677, 683, 691, 701, 709, 719, 727, 733, 739, 743, 751, 757, 761, 769, 773, 787, 797, 809, 811, 821, 823, 827, 829, 839, 853, 857, 859, 863, 877, 881, 883, 887, 907, 911, 919, 929, 937, 941, 947, 953, 967, 971, 977, 983, 991, 997]\n",
    "\n",
    "for num in primeNos:\n",
    "    # Check if 'num' is a prime number by checking its presence in 'primeNos'\n",
    "    is_prime = num in primeNos\n",
    "    print(f\"Is {num} a prime number? {is_prime}\")"
   ]
  },
  {
   "cell_type": "markdown",
   "metadata": {},
   "source": [
    "## Task 5: Roots"
   ]
  },
  {
   "cell_type": "code",
   "execution_count": 31,
   "metadata": {},
   "outputs": [],
   "source": [
    "import math"
   ]
  },
  {
   "cell_type": "code",
   "execution_count": 32,
   "metadata": {},
   "outputs": [],
   "source": [
    "def get_first_32_bits_of_fractional_part(number):\n",
    "    fractional_part = number - math.floor(number)\n",
    "    first_32_bits = int(fractional_part * (2**32))\n",
    "    return first_32_bits"
   ]
  },
  {
   "cell_type": "code",
   "execution_count": 33,
   "metadata": {},
   "outputs": [],
   "source": [
    "def is_prime(n):\n",
    "    if n <= 1:\n",
    "        return False\n",
    "    if n <= 3:\n",
    "        return True\n",
    "    if n % 2 == 0 or n % 3 == 0:\n",
    "        return False\n",
    "    i = 5\n",
    "    while i * i <= n:\n",
    "        if n % i == 0 or n % (i + 2) == 0:\n",
    "            return False\n",
    "        i += 6\n",
    "    return True"
   ]
  },
  {
   "cell_type": "code",
   "execution_count": 34,
   "metadata": {},
   "outputs": [],
   "source": [
    "def first_n_primes(n):\n",
    "    primes = []\n",
    "    num = 2\n",
    "    while len(primes) < n:\n",
    "        if is_prime(num):\n",
    "            primes.append(num)\n",
    "        num += 1\n",
    "    return primes"
   ]
  },
  {
   "cell_type": "code",
   "execution_count": 35,
   "metadata": {},
   "outputs": [],
   "source": [
    "def main():\n",
    "    primes = first_n_primes(100)\n",
    "    results = {}\n",
    "    for prime in primes:\n",
    "        sqrt_fractional_bits = get_first_32_bits_of_fractional_part(math.sqrt(prime))\n",
    "        results[prime] = sqrt_fractional_bits\n",
    "    return results"
   ]
  },
  {
   "cell_type": "code",
   "execution_count": 36,
   "metadata": {},
   "outputs": [
    {
     "name": "stdout",
     "output_type": "stream",
     "text": [
      "Prime: 2, First 32 bits of fractional part of sqrt: 1779033703\n",
      "Prime: 3, First 32 bits of fractional part of sqrt: 3144134277\n",
      "Prime: 5, First 32 bits of fractional part of sqrt: 1013904242\n",
      "Prime: 7, First 32 bits of fractional part of sqrt: 2773480762\n",
      "Prime: 11, First 32 bits of fractional part of sqrt: 1359893119\n",
      "Prime: 13, First 32 bits of fractional part of sqrt: 2600822924\n",
      "Prime: 17, First 32 bits of fractional part of sqrt: 528734635\n",
      "Prime: 19, First 32 bits of fractional part of sqrt: 1541459225\n",
      "Prime: 23, First 32 bits of fractional part of sqrt: 3418070365\n",
      "Prime: 29, First 32 bits of fractional part of sqrt: 1654270250\n",
      "Prime: 31, First 32 bits of fractional part of sqrt: 2438529370\n",
      "Prime: 37, First 32 bits of fractional part of sqrt: 355462360\n",
      "Prime: 41, First 32 bits of fractional part of sqrt: 1731405415\n",
      "Prime: 43, First 32 bits of fractional part of sqrt: 2394180231\n",
      "Prime: 47, First 32 bits of fractional part of sqrt: 3675008525\n",
      "Prime: 53, First 32 bits of fractional part of sqrt: 1203062813\n",
      "Prime: 59, First 32 bits of fractional part of sqrt: 2925498710\n",
      "Prime: 61, First 32 bits of fractional part of sqrt: 3479995859\n",
      "Prime: 67, First 32 bits of fractional part of sqrt: 796084093\n",
      "Prime: 71, First 32 bits of fractional part of sqrt: 1830299338\n",
      "Prime: 73, First 32 bits of fractional part of sqrt: 2336478295\n",
      "Prime: 79, First 32 bits of fractional part of sqrt: 3814765974\n",
      "Prime: 83, First 32 bits of fractional part of sqrt: 474308610\n",
      "Prime: 89, First 32 bits of fractional part of sqrt: 1863934769\n",
      "Prime: 97, First 32 bits of fractional part of sqrt: 3645816497\n",
      "Prime: 101, First 32 bits of fractional part of sqrt: 214214161\n",
      "Prime: 103, First 32 bits of fractional part of sqrt: 639484402\n",
      "Prime: 107, First 32 bits of fractional part of sqrt: 1477814206\n",
      "Prime: 109, First 32 bits of fractional part of sqrt: 1891102055\n",
      "Prime: 113, First 32 bits of fractional part of sqrt: 2706455657\n",
      "Prime: 127, First 32 bits of fractional part of sqrt: 1157183029\n",
      "Prime: 131, First 32 bits of fractional part of sqrt: 1913507325\n",
      "Prime: 137, First 32 bits of fractional part of sqrt: 3026663070\n",
      "Prime: 139, First 32 bits of fractional part of sqrt: 3392277365\n",
      "Prime: 149, First 32 bits of fractional part of sqrt: 887149614\n",
      "Prime: 151, First 32 bits of fractional part of sqrt: 1237834173\n",
      "Prime: 157, First 32 bits of fractional part of sqrt: 2276178418\n",
      "Prime: 163, First 32 bits of fractional part of sqrt: 3294864124\n",
      "Prime: 167, First 32 bits of fractional part of sqrt: 3963601907\n",
      "Prime: 173, First 32 bits of fractional part of sqrt: 656899949\n",
      "Prime: 179, First 32 bits of fractional part of sqrt: 1628171250\n",
      "Prime: 181, First 32 bits of fractional part of sqrt: 1948300446\n",
      "Prime: 191, First 32 bits of fractional part of sqrt: 3523054131\n",
      "Prime: 193, First 32 bits of fractional part of sqrt: 3833017748\n",
      "Prime: 197, First 32 bits of fractional part of sqrt: 153196534\n",
      "Prime: 199, First 32 bits of fractional part of sqrt: 458427541\n",
      "Prime: 211, First 32 bits of fractional part of sqrt: 2258461506\n",
      "Prime: 223, First 32 bits of fractional part of sqrt: 4007997007\n",
      "Prime: 227, First 32 bits of fractional part of sqrt: 285697673\n",
      "Prime: 229, First 32 bits of fractional part of sqrt: 570139515\n",
      "Prime: 233, First 32 bits of fractional part of sqrt: 1135321014\n",
      "Prime: 239, First 32 bits of fractional part of sqrt: 1974073629\n",
      "Prime: 241, First 32 bits of fractional part of sqrt: 2251313177\n",
      "Prime: 251, First 32 bits of fractional part of sqrt: 3620569459\n",
      "Prime: 257, First 32 bits of fractional part of sqrt: 134086911\n",
      "Prime: 263, First 32 bits of fractional part of sqrt: 933187903\n",
      "Prime: 269, First 32 bits of fractional part of sqrt: 1723224488\n",
      "Prime: 271, First 32 bits of fractional part of sqrt: 1984608322\n",
      "Prime: 277, First 32 bits of fractional part of sqrt: 2763025377\n",
      "Prime: 281, First 32 bits of fractional part of sqrt: 3277294613\n",
      "Prime: 283, First 32 bits of fractional part of sqrt: 3533056595\n",
      "Prime: 293, First 32 bits of fractional part of sqrt: 503553856\n",
      "Prime: 307, First 32 bits of fractional part of sqrt: 2239462382\n",
      "Prime: 311, First 32 bits of fractional part of sqrt: 2728129246\n",
      "Prime: 313, First 32 bits of fractional part of sqrt: 2971284200\n",
      "Prime: 317, First 32 bits of fractional part of sqrt: 3455274624\n",
      "Prime: 331, First 32 bits of fractional part of sqrt: 830669862\n",
      "Prime: 337, First 32 bits of fractional part of sqrt: 1535707435\n",
      "Prime: 347, First 32 bits of fractional part of sqrt: 2696964627\n",
      "Prime: 349, First 32 bits of fractional part of sqrt: 2927199279\n",
      "Prime: 353, First 32 bits of fractional part of sqrt: 3385697929\n",
      "Prime: 359, First 32 bits of fractional part of sqrt: 4068602425\n",
      "Prime: 367, First 32 bits of fractional part of sqrt: 675358098\n",
      "Prime: 373, First 32 bits of fractional part of sqrt: 1345217755\n",
      "Prime: 379, First 32 bits of fractional part of sqrt: 2009711121\n",
      "Prime: 383, First 32 bits of fractional part of sqrt: 2449788317\n",
      "Prime: 389, First 32 bits of fractional part of sqrt: 3105617507\n",
      "Prime: 397, First 32 bits of fractional part of sqrt: 3972238493\n",
      "Prime: 401, First 32 bits of fractional part of sqrt: 107307157\n",
      "Prime: 409, First 32 bits of fractional part of sqrt: 960992129\n",
      "Prime: 419, First 32 bits of fractional part of sqrt: 2016442007\n",
      "Prime: 421, First 32 bits of fractional part of sqrt: 2226015100\n",
      "Prime: 431, First 32 bits of fractional part of sqrt: 3266492245\n",
      "Prime: 433, First 32 bits of fractional part of sqrt: 3473134094\n",
      "Prime: 439, First 32 bits of fractional part of sqrt: 4090212631\n",
      "Prime: 443, First 32 bits of fractional part of sqrt: 204290891\n",
      "Prime: 449, First 32 bits of fractional part of sqrt: 814412129\n",
      "Prime: 457, First 32 bits of fractional part of sqrt: 1621600664\n",
      "Prime: 461, First 32 bits of fractional part of sqrt: 2022545426\n",
      "Prime: 463, First 32 bits of fractional part of sqrt: 2222365506\n",
      "Prime: 467, First 32 bits of fractional part of sqrt: 2620715106\n",
      "Prime: 479, First 32 bits of fractional part of sqrt: 3805635780\n",
      "Prime: 487, First 32 bits of fractional part of sqrt: 292386301\n",
      "Prime: 491, First 32 bits of fractional part of sqrt: 680837383\n",
      "Prime: 499, First 32 bits of fractional part of sqrt: 1453021382\n",
      "Prime: 503, First 32 bits of fractional part of sqrt: 1836792121\n",
      "Prime: 509, First 32 bits of fractional part of sqrt: 2409598395\n",
      "Prime: 521, First 32 bits of fractional part of sqrt: 3545170893\n",
      "Prime: 523, First 32 bits of fractional part of sqrt: 3733156591\n",
      "Prime: 541, First 32 bits of fractional part of sqrt: 1114143289\n"
     ]
    }
   ],
   "source": [
    "# Execute the main function and print the results\n",
    "if __name__ == \"__main__\":\n",
    "    results = main()\n",
    "    for prime, bits in results.items():\n",
    "        print(f\"Prime: {prime}, First 32 bits of fractional part of sqrt: {bits}\")"
   ]
  },
  {
   "cell_type": "markdown",
   "metadata": {},
   "source": [
    "Final version should use hexidecimal"
   ]
  },
  {
   "cell_type": "markdown",
   "metadata": {},
   "source": [
    "## Task 6: Proof of Work"
   ]
  },
  {
   "cell_type": "code",
   "execution_count": null,
   "metadata": {},
   "outputs": [],
   "source": []
  },
  {
   "cell_type": "markdown",
   "metadata": {},
   "source": [
    "## Task 7: Turing Machines"
   ]
  },
  {
   "cell_type": "code",
   "execution_count": null,
   "metadata": {},
   "outputs": [],
   "source": []
  },
  {
   "cell_type": "markdown",
   "metadata": {},
   "source": [
    "## Task 8: Computational Complexity"
   ]
  },
  {
   "cell_type": "code",
   "execution_count": null,
   "metadata": {},
   "outputs": [],
   "source": []
  }
 ],
 "metadata": {
  "kernelspec": {
   "display_name": "Python 3",
   "language": "python",
   "name": "python3"
  },
  "language_info": {
   "codemirror_mode": {
    "name": "ipython",
    "version": 3
   },
   "file_extension": ".py",
   "mimetype": "text/x-python",
   "name": "python",
   "nbconvert_exporter": "python",
   "pygments_lexer": "ipython3",
   "version": "3.12.1"
  }
 },
 "nbformat": 4,
 "nbformat_minor": 2
}
