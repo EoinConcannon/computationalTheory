{
 "cells": [
  {
   "cell_type": "markdown",
   "metadata": {},
   "source": [
    "## Task 1: Binary Representations"
   ]
  },
  {
   "cell_type": "markdown",
   "metadata": {},
   "source": [
    "### Binary Representations Functions\n",
    "\n",
    "#### Function `rotl(x, n=1)`\n",
    "This function rotates the bits in a 32-bit unsigned integer `x` to the left by `n` places. The leftmost bits that are shifted out are reintroduced at the rightmost positions.\n",
    "\n",
    "#### Example\n",
    "```python\n",
    "rotl(0b00000000000000000000000000000001, 1)  # Output: 0b00000000000000000000000000000010"
   ]
  },
  {
   "cell_type": "markdown",
   "metadata": {},
   "source": [
    "#### Function rotr(x, n=1)\n",
    "\n",
    "This function rotates the bits in a 32-bit unsigned integer x to the right by n places. The rightmost bits that are shifted out are reintroduced at the leftmost positions.\n",
    "\n",
    "#### Example\n",
    "```python\n",
    "rotr(0b10000000000000000000000000000000, 1)  # Output: 0b01000000000000000000000000000000"
   ]
  },
  {
   "cell_type": "code",
   "execution_count": 15,
   "metadata": {},
   "outputs": [
    {
     "name": "stdout",
     "output_type": "stream",
     "text": [
      "rotl(0b00000000000000000000000000000001, 1): 0b10\n",
      "rotr(0b00000000000000000000000000000010, 1): 0b1\n",
      "ch(0b1010, 0b1100, 0b0011): 0b1001\n",
      "maj(0b1010, 0b1100, 0b1001): 0b1000\n"
     ]
    }
   ],
   "source": [
    "def rotl(x, n=1):\n",
    "    return ((x << n) & 0xFFFFFFFF) | (x >> (32 - n))\n",
    "\n",
    "def rotr(x, n=1):\n",
    "    return (x >> n) | ((x << (32 - n)) & 0xFFFFFFFF)\n",
    "\n",
    "def ch(x, y, z):\n",
    "    return (x & y) | (~x & z)\n",
    "\n",
    "def maj(x, y, z):\n",
    "    return (x & y) | (x & z) | (y & z)\n",
    "\n",
    "# Example and Tests\n",
    "if __name__ == \"__main__\":\n",
    "    # rotl\n",
    "    print(f\"rotl(0b00000000000000000000000000000001, 1): {bin(rotl(0b00000000000000000000000000000001, 1))}\")\n",
    "    # rotr\n",
    "    print(f\"rotr(0b00000000000000000000000000000010, 1): {bin(rotr(0b00000000000000000000000000000010, 1))}\")\n",
    "    # ch\n",
    "    print(f\"ch(0b1010, 0b1100, 0b0011): {bin(ch(0b1010, 0b1100, 0b0011))}\")\n",
    "    # maj\n",
    "    print(f\"maj(0b1010, 0b1100, 0b1001): {bin(maj(0b1010, 0b1100, 0b1001))}\")"
   ]
  },
  {
   "cell_type": "markdown",
   "metadata": {},
   "source": [
    "## Task 2: Hash Functions"
   ]
  },
  {
   "cell_type": "markdown",
   "metadata": {},
   "source": [
    "#### C Programming Language\n",
    "```c\n",
    "// Computes a hash value for a string\n",
    "unsigned hash(char *s) {\n",
    "    unsigned hashval;\n",
    "    for (hashval = 0; *s != '\\0'; s++)\n",
    "        hashval = *s + 31 * hashval;\n",
    "    return hashval % 101;\n",
    "}"
   ]
  },
  {
   "cell_type": "markdown",
   "metadata": {},
   "source": [
    "#### Python"
   ]
  },
  {
   "cell_type": "code",
   "execution_count": null,
   "metadata": {},
   "outputs": [],
   "source": []
  },
  {
   "cell_type": "markdown",
   "metadata": {},
   "source": [
    "## Task 3: SHA256"
   ]
  },
  {
   "cell_type": "code",
   "execution_count": null,
   "metadata": {},
   "outputs": [],
   "source": []
  },
  {
   "cell_type": "markdown",
   "metadata": {},
   "source": [
    "## Task 4: Prime Numbers"
   ]
  },
  {
   "cell_type": "code",
   "execution_count": 14,
   "metadata": {},
   "outputs": [
    {
     "name": "stdout",
     "output_type": "stream",
     "text": [
      "Method 1\n",
      "1 is not a prime number\n",
      "2 is a prime number\n",
      "5 is a prime number\n",
      "10 is not a prime number\n",
      "343 is not a prime number\n",
      "\n",
      "Method 2\n",
      "Is 2 a prime number? True\n",
      "Is 3 a prime number? True\n",
      "Is 5 a prime number? True\n",
      "Is 7 a prime number? True\n",
      "Is 11 a prime number? True\n",
      "Is 13 a prime number? True\n",
      "Is 17 a prime number? True\n",
      "Is 19 a prime number? True\n",
      "Is 23 a prime number? True\n",
      "Is 29 a prime number? True\n",
      "Is 31 a prime number? True\n",
      "Is 37 a prime number? True\n",
      "Is 41 a prime number? True\n",
      "Is 43 a prime number? True\n",
      "Is 47 a prime number? True\n",
      "Is 53 a prime number? True\n",
      "Is 59 a prime number? True\n",
      "Is 61 a prime number? True\n",
      "Is 67 a prime number? True\n",
      "Is 71 a prime number? True\n",
      "Is 73 a prime number? True\n",
      "Is 79 a prime number? True\n",
      "Is 83 a prime number? True\n",
      "Is 89 a prime number? True\n",
      "Is 97 a prime number? True\n",
      "Is 101 a prime number? True\n",
      "Is 103 a prime number? True\n",
      "Is 107 a prime number? True\n",
      "Is 109 a prime number? True\n",
      "Is 113 a prime number? True\n",
      "Is 127 a prime number? True\n",
      "Is 131 a prime number? True\n",
      "Is 137 a prime number? True\n",
      "Is 139 a prime number? True\n",
      "Is 149 a prime number? True\n",
      "Is 151 a prime number? True\n",
      "Is 157 a prime number? True\n",
      "Is 163 a prime number? True\n",
      "Is 167 a prime number? True\n",
      "Is 173 a prime number? True\n",
      "Is 179 a prime number? True\n",
      "Is 181 a prime number? True\n",
      "Is 191 a prime number? True\n",
      "Is 193 a prime number? True\n",
      "Is 197 a prime number? True\n",
      "Is 199 a prime number? True\n",
      "Is 211 a prime number? True\n",
      "Is 223 a prime number? True\n",
      "Is 227 a prime number? True\n",
      "Is 229 a prime number? True\n",
      "Is 233 a prime number? True\n",
      "Is 239 a prime number? True\n",
      "Is 241 a prime number? True\n",
      "Is 251 a prime number? True\n",
      "Is 257 a prime number? True\n",
      "Is 263 a prime number? True\n",
      "Is 269 a prime number? True\n",
      "Is 271 a prime number? True\n",
      "Is 277 a prime number? True\n",
      "Is 281 a prime number? True\n",
      "Is 283 a prime number? True\n",
      "Is 293 a prime number? True\n",
      "Is 307 a prime number? True\n",
      "Is 311 a prime number? True\n",
      "Is 313 a prime number? True\n",
      "Is 317 a prime number? True\n",
      "Is 331 a prime number? True\n",
      "Is 337 a prime number? True\n",
      "Is 347 a prime number? True\n",
      "Is 349 a prime number? True\n",
      "Is 353 a prime number? True\n",
      "Is 359 a prime number? True\n",
      "Is 367 a prime number? True\n",
      "Is 373 a prime number? True\n",
      "Is 379 a prime number? True\n",
      "Is 383 a prime number? True\n",
      "Is 389 a prime number? True\n",
      "Is 397 a prime number? True\n",
      "Is 401 a prime number? True\n",
      "Is 409 a prime number? True\n",
      "Is 419 a prime number? True\n",
      "Is 421 a prime number? True\n",
      "Is 431 a prime number? True\n",
      "Is 433 a prime number? True\n",
      "Is 439 a prime number? True\n",
      "Is 443 a prime number? True\n",
      "Is 449 a prime number? True\n",
      "Is 457 a prime number? True\n",
      "Is 461 a prime number? True\n",
      "Is 463 a prime number? True\n",
      "Is 467 a prime number? True\n",
      "Is 479 a prime number? True\n",
      "Is 487 a prime number? True\n",
      "Is 491 a prime number? True\n",
      "Is 499 a prime number? True\n",
      "Is 503 a prime number? True\n",
      "Is 509 a prime number? True\n",
      "Is 521 a prime number? True\n",
      "Is 523 a prime number? True\n",
      "Is 541 a prime number? True\n",
      "Is 547 a prime number? True\n",
      "Is 557 a prime number? True\n",
      "Is 563 a prime number? True\n",
      "Is 569 a prime number? True\n",
      "Is 571 a prime number? True\n",
      "Is 577 a prime number? True\n",
      "Is 587 a prime number? True\n",
      "Is 593 a prime number? True\n",
      "Is 599 a prime number? True\n",
      "Is 601 a prime number? True\n",
      "Is 607 a prime number? True\n",
      "Is 613 a prime number? True\n",
      "Is 617 a prime number? True\n",
      "Is 619 a prime number? True\n",
      "Is 631 a prime number? True\n",
      "Is 641 a prime number? True\n",
      "Is 643 a prime number? True\n",
      "Is 647 a prime number? True\n",
      "Is 653 a prime number? True\n",
      "Is 659 a prime number? True\n",
      "Is 661 a prime number? True\n",
      "Is 673 a prime number? True\n",
      "Is 677 a prime number? True\n",
      "Is 683 a prime number? True\n",
      "Is 691 a prime number? True\n",
      "Is 701 a prime number? True\n",
      "Is 709 a prime number? True\n",
      "Is 719 a prime number? True\n",
      "Is 727 a prime number? True\n",
      "Is 733 a prime number? True\n",
      "Is 739 a prime number? True\n",
      "Is 743 a prime number? True\n",
      "Is 751 a prime number? True\n",
      "Is 757 a prime number? True\n",
      "Is 761 a prime number? True\n",
      "Is 769 a prime number? True\n",
      "Is 773 a prime number? True\n",
      "Is 787 a prime number? True\n",
      "Is 797 a prime number? True\n",
      "Is 809 a prime number? True\n",
      "Is 811 a prime number? True\n",
      "Is 821 a prime number? True\n",
      "Is 823 a prime number? True\n",
      "Is 827 a prime number? True\n",
      "Is 829 a prime number? True\n",
      "Is 839 a prime number? True\n",
      "Is 853 a prime number? True\n",
      "Is 857 a prime number? True\n",
      "Is 859 a prime number? True\n",
      "Is 863 a prime number? True\n",
      "Is 877 a prime number? True\n",
      "Is 881 a prime number? True\n",
      "Is 883 a prime number? True\n",
      "Is 887 a prime number? True\n",
      "Is 907 a prime number? True\n",
      "Is 911 a prime number? True\n",
      "Is 919 a prime number? True\n",
      "Is 929 a prime number? True\n",
      "Is 937 a prime number? True\n",
      "Is 941 a prime number? True\n",
      "Is 947 a prime number? True\n",
      "Is 953 a prime number? True\n",
      "Is 967 a prime number? True\n",
      "Is 971 a prime number? True\n",
      "Is 977 a prime number? True\n",
      "Is 983 a prime number? True\n",
      "Is 991 a prime number? True\n",
      "Is 997 a prime number? True\n"
     ]
    }
   ],
   "source": [
    "# Method 1: Check if a number is prime by iterating through possible divisors\n",
    "print(\"Method 1\")\n",
    "\n",
    "# https://www.geeksforgeeks.org/python-program-to-check-whether-a-number-is-prime-or-not/\n",
    "\n",
    "# List of numbers to check\n",
    "numbers = [1, 2, 5, 10, 343]\n",
    "\n",
    "for num in numbers:\n",
    "    # Negative numbers, 0 and 1 are not primes\n",
    "    if num > 1:\n",
    "        # Iterate from 2 to n // 2\n",
    "        for i in range(2, (num // 2) + 1):\n",
    "            # If num is divisible by any number between 2 and n / 2, it is not prime\n",
    "            if (num % i) == 0:\n",
    "                print(num, \"is not a prime number\")\n",
    "                break\n",
    "        else:\n",
    "            print(num, \"is a prime number\")\n",
    "    else:\n",
    "        print(num, \"is not a prime number\")\n",
    "\n",
    "print(\"\\nMethod 2\")\n",
    "\n",
    "# Method 2: Check if 'num' is a prime number by checking its presence in 'primeNos'\n",
    "# Assuming 'primeNos' is a predefined list of prime numbers\n",
    "primeNos = [2, 3, 5, 7, 11, 13, 17, 19, 23, 29, 31, 37, 41, 43, 47, 53, 59, 61, 67, 71, 73, 79, 83, 89, 97, 101, 103, 107, 109, 113, 127, 131, 137, 139, 149, 151, 157, 163, 167, 173, 179, 181, 191, 193, 197, 199, 211, 223, 227, 229, 233, 239, 241, 251, 257, 263, 269, 271, 277, 281, 283, 293, 307, 311, 313, 317, 331, 337, 347, 349, 353, 359, 367, 373, 379, 383, 389, 397, 401, 409, 419, 421, 431, 433, 439, 443, 449, 457, 461, 463, 467, 479, 487, 491, 499, 503, 509, 521, 523, 541, 547, 557, 563, 569, 571, 577, 587, 593, 599, 601, 607, 613, 617, 619, 631, 641, 643, 647, 653, 659, 661, 673, 677, 683, 691, 701, 709, 719, 727, 733, 739, 743, 751, 757, 761, 769, 773, 787, 797, 809, 811, 821, 823, 827, 829, 839, 853, 857, 859, 863, 877, 881, 883, 887, 907, 911, 919, 929, 937, 941, 947, 953, 967, 971, 977, 983, 991, 997]\n",
    "\n",
    "for num in primeNos:\n",
    "    # Check if 'num' is a prime number by checking its presence in 'primeNos'\n",
    "    is_prime = num in primeNos\n",
    "    print(f\"Is {num} a prime number? {is_prime}\")"
   ]
  },
  {
   "cell_type": "markdown",
   "metadata": {},
   "source": [
    "## Task 5: Roots"
   ]
  },
  {
   "cell_type": "code",
   "execution_count": null,
   "metadata": {},
   "outputs": [],
   "source": []
  },
  {
   "cell_type": "markdown",
   "metadata": {},
   "source": [
    "## Task 6: Proof of Work"
   ]
  },
  {
   "cell_type": "code",
   "execution_count": null,
   "metadata": {},
   "outputs": [],
   "source": []
  },
  {
   "cell_type": "markdown",
   "metadata": {},
   "source": [
    "## Task 7: Turing Machines"
   ]
  },
  {
   "cell_type": "code",
   "execution_count": null,
   "metadata": {},
   "outputs": [],
   "source": []
  },
  {
   "cell_type": "markdown",
   "metadata": {},
   "source": [
    "## Task 8: Computational Complexity"
   ]
  },
  {
   "cell_type": "code",
   "execution_count": null,
   "metadata": {},
   "outputs": [],
   "source": []
  }
 ],
 "metadata": {
  "kernelspec": {
   "display_name": "Python 3",
   "language": "python",
   "name": "python3"
  },
  "language_info": {
   "codemirror_mode": {
    "name": "ipython",
    "version": 3
   },
   "file_extension": ".py",
   "mimetype": "text/x-python",
   "name": "python",
   "nbconvert_exporter": "python",
   "pygments_lexer": "ipython3",
   "version": "3.12.1"
  }
 },
 "nbformat": 4,
 "nbformat_minor": 2
}
