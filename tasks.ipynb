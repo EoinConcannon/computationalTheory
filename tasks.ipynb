{
 "cells": [
  {
   "cell_type": "markdown",
   "metadata": {},
   "source": [
    "# Tasks\n",
    "\n",
    "https://github.com/ianmcloughlin/computational_theory/blob/main/assessment/tasks.md"
   ]
  },
  {
   "cell_type": "markdown",
   "metadata": {},
   "source": [
    "## Task 1: Binary Representations"
   ]
  },
  {
   "cell_type": "markdown",
   "metadata": {},
   "source": [
    "This task involves implementing four binary manipulation functions commonly used in cryptographic algorithms:\n",
    "\n",
    "- Rotate Left (rotl)\n",
    "\n",
    "- Rotate Right (rotr)\n",
    "\n",
    "- Choose (ch)\n",
    "\n",
    "- Majority (maj)"
   ]
  },
  {
   "cell_type": "code",
   "execution_count": 73,
   "metadata": {},
   "outputs": [],
   "source": [
    "hexNum = 0x1010002\n",
    "# Test value that will be used against functions"
   ]
  },
  {
   "cell_type": "markdown",
   "metadata": {},
   "source": [
    "### Functions"
   ]
  },
  {
   "cell_type": "markdown",
   "metadata": {},
   "source": [
    "### Rotate Left (rotl)\n",
    "\n",
    "The rotl function rotates the bits in a 32-bit unsigned integer to the left by n places. Bits that \"fall off\" the left end reappear at the right end.\n",
    "\n",
    "The function takes two parameters:\n",
    "- `x`: The 32-bit unsigned integer to be rotated\n",
    "- `n`: The number of bit positions to rotate left (default is 1)\n",
    "\n",
    "For example, when rotating 0x1010002 left by 4 bits:\n",
    "1. The 4 leftmost bits move to the rightmost positions\n",
    "2. All other bits shift left by 4 positions\n",
    "3. The result is masked with 0xFFFFFFFF to ensure it remains a 32-bit value\n",
    "\n",
    "This operation is commonly used in cryptographic algorithms like SHA-256, where bit manipulation helps create complex transformations of the input data."
   ]
  },
  {
   "cell_type": "code",
   "execution_count": 74,
   "metadata": {},
   "outputs": [
    {
     "name": "stdout",
     "output_type": "stream",
     "text": [
      "hexNum: 01010002\n",
      "Rotated left 4 bits: 10100020\n",
      "Rotated left 8 bits: 01000201\n"
     ]
    }
   ],
   "source": [
    "def rotl(x, n=1):\n",
    "    # Rotate left: Rotates the bits in a 32-bit integer to the left n places.\n",
    "    # Ensure x is a 32-bit integer\n",
    "    x = x & 0xFFFFFFFF\n",
    "    \n",
    "    # Perform rotation\n",
    "    return ((x << n) | (x >> (32 - n))) & 0xFFFFFFFF\n",
    "\n",
    "print(f\"hexNum: {hexNum:08x}\")\n",
    "print(f\"Rotated left 4 bits: {rotl(hexNum, 4):08x}\")\n",
    "print(f\"Rotated left 8 bits: {rotl(hexNum, 8):08x}\")"
   ]
  },
  {
   "cell_type": "markdown",
   "metadata": {},
   "source": [
    "### Rotate Right (rotr)\n",
    "\n",
    "The rotr function rotates the bits in a 32-bit unsigned integer to the right by n places. Bits that \"fall off\" the right end reappear at the left end.\n",
    "\n",
    "The function takes two parameters:\n",
    "- `x`: The 32-bit unsigned integer to be rotated\n",
    "- `n`: The number of bit positions to rotate right (default is 1)\n",
    "\n",
    "This is the opposite of the rotl function and is also commonly used in cryptographic algorithms like SHA-256."
   ]
  },
  {
   "cell_type": "code",
   "execution_count": 75,
   "metadata": {},
   "outputs": [
    {
     "name": "stdout",
     "output_type": "stream",
     "text": [
      "hexNum: 01010002\n",
      "Rotated right 4 bits: 20101000\n",
      "Rotated right 8 bits: 02010100\n"
     ]
    }
   ],
   "source": [
    "def rotr(x, n=1):\n",
    "    # Rotate right: Rotates the bits in a 32-bit integer to the right n places.\n",
    "    # Ensure x is a 32-bit integer\n",
    "    x = x & 0xFFFFFFFF\n",
    "    \n",
    "    # Perform rotation\n",
    "    return ((x >> n) | (x << (32 - n))) & 0xFFFFFFFF\n",
    "\n",
    "print(f\"hexNum: {hexNum:08x}\")\n",
    "print(f\"Rotated right 4 bits: {rotr(hexNum, 4):08x}\")\n",
    "print(f\"Rotated right 8 bits: {rotr(hexNum, 8):08x}\")"
   ]
  },
  {
   "cell_type": "markdown",
   "metadata": {},
   "source": [
    "### Choose (ch)\n",
    "\n",
    "The ch function selects bits from y where x has bits set to 1, and bits from z where x has bits set to 0.\n",
    "\n",
    "For each bit position i:\n",
    "- If bit i in x is 1, the output bit i comes from y\n",
    "- If bit i in x is 0, the output bit i comes from z\n",
    "\n",
    "This function is commonly used in cryptographic hash functions like SHA-256. It acts as a bit-by-bit multiplexer, using each bit of x to choose between the corresponding bits of y and z.\n",
    "\n",
    "The implementation uses the following operations:\n",
    "- (x & y): Keep bits from y where x has 1s\n",
    "- (~x & z): Keep bits from z where x has 0s\n",
    "- XOR (^): Combine both parts into the final result\n",
    "\n",
    "When applied to a 32-bit input, this creates complex bit interdependencies that contribute to the avalanche effect essential for secure hash functions."
   ]
  },
  {
   "cell_type": "code",
   "execution_count": 76,
   "metadata": {},
   "outputs": [
    {
     "name": "stdout",
     "output_type": "stream",
     "text": [
      "x: 01010002, y: aaaaaaaa, z: 55555555\n",
      "ch(x, y, z): 54545557\n"
     ]
    }
   ],
   "source": [
    "def ch(x, y, z):\n",
    "    # For each bit position i, if x has bit i set, then output bit i from y, \n",
    "    # else output bit i from z.\n",
    "    return (x & y) ^ (~x & z)\n",
    "\n",
    "x1, y1, z1 = hexNum, 0xAAAAAAAA, 0x55555555\n",
    "print(f\"x: {x1:08x}, y: {y1:08x}, z: {z1:08x}\")\n",
    "print(f\"ch(x, y, z): {ch(x1, y1, z1):08x}\")"
   ]
  },
  {
   "cell_type": "markdown",
   "metadata": {},
   "source": [
    "### Majority (maj)\n",
    "\n",
    "The maj function takes a majority vote of bits in x, y, and z. The output has a 1 in bit position i where at least two of the three inputs have 1's in position i.\n",
    "\n",
    "The function takes three parameters:\n",
    "- `x`, `y`, and `z`: The three 32-bit unsigned integers to vote on\n",
    "\n",
    "The implementation calculates this using the formula:\n",
    "- `(x & y) ^ (x & z) ^ (y & z)`\n",
    "\n",
    "This efficiently determines, for each bit position:\n",
    "- If both x and y have a 1, OR\n",
    "- If both x and z have a 1, OR\n",
    "- If both y and z have a 1\n",
    "\n",
    "This function is a critical component in the SHA-256 hash algorithm, where it helps create complex dependencies between bits during the message compression phase."
   ]
  },
  {
   "cell_type": "code",
   "execution_count": 77,
   "metadata": {},
   "outputs": [
    {
     "name": "stdout",
     "output_type": "stream",
     "text": [
      "x: 01010002, y: 01010002, z: 00000000\n",
      "maj(x, y, z): 01010002\n"
     ]
    }
   ],
   "source": [
    "def maj(x, y, z):\n",
    "    # For each bit position i, output a 1 if at least two of the \n",
    "    # three inputs have a 1 in position i, and 0 otherwise.\n",
    "    return (x & y) ^ (x & z) ^ (y & z)\n",
    "\n",
    "x1, y1, z1 = hexNum, hexNum, 0x00000000\n",
    "print(f\"x: {x1:08x}, y: {y1:08x}, z: {z1:08x}\")\n",
    "print(f\"maj(x, y, z): {maj(x1, y1, z1):08x}\")"
   ]
  },
  {
   "cell_type": "markdown",
   "metadata": {},
   "source": [
    "## Task 2: Hash Functions\n",
    "\n",
    "### Introduction\n",
    "A hash function is a mathematical algorithm that maps data of arbitrary size to a fixed-size value. Hash functions are widely used in computer science for tasks such as:\n",
    "\n",
    "- Data retrieval in hash tables\n",
    "- Cryptography\n",
    "- Data integrity checks\n",
    "\n",
    "The output of a hash function is called a hash value or hash code. A good hash function should:\n",
    "\n",
    "- Minimize collisions (different inputs producing the same hash value)\n",
    "- Be efficient to compute\n",
    "- Distribute hash values uniformly across the output range\n",
    "\n",
    "### The K&R Hash Function\n",
    "The following hash function is taken from \"The C Programming Language\" by Brian Kernighan and Dennis Ritchie. It is a simple and efficient hash function designed for strings.\n",
    "\n",
    "#### Algorithm Explanation:\n",
    "1. **Initialization**: Start with hashval = 0\n",
    "2. **Iterate through the string**: For each character in the string:\n",
    "   - Multiply the current hashval by 31\n",
    "   - Add the ASCII value of the current character\n",
    "3. **Modulo operation**: After processing the string, take the modulo of the hash value with 101 to ensure the result fits within a specific range"
   ]
  },
  {
   "cell_type": "markdown",
   "metadata": {},
   "source": [
    "#### C Programming Language\n",
    "```c\n",
    "// Computes a hash value for a string\n",
    "unsigned hash(char *s) {\n",
    "    unsigned hashval;\n",
    "    for (hashval = 0; *s != '\\0'; s++)\n",
    "        hashval = *s + 31 * hashval;\n",
    "    return hashval % 101;\n",
    "}"
   ]
  },
  {
   "cell_type": "markdown",
   "metadata": {},
   "source": [
    "### Source\n",
    "\n",
    "Kernighan, B. W., & Ritchie, D. M. (1988). The C Programming Language (2nd ed.), Section 6.3, “Hashing”\n",
    "\n",
    "- https://www.cs.sfu.ca/~ashriram/Courses/CS295/assets/books/C_Book_2nd.pdf\n",
    "- https://search.ebscohost.com/login.aspx?direct=true&AuthType=ip,sso&db=cat10672a&AN=atu.KOHA.ATU.408073316&site=eds-live&scope=site&custid=s2873033"
   ]
  },
  {
   "cell_type": "markdown",
   "metadata": {},
   "source": [
    "#### Python Version"
   ]
  },
  {
   "cell_type": "code",
   "execution_count": 78,
   "metadata": {},
   "outputs": [
    {
     "name": "stdout",
     "output_type": "stream",
     "text": [
      "Hash of 'hello': 17\n",
      "Hash of 'world': 34\n",
      "Hash of 'python': 91\n",
      "Hash of 'programming': 89\n",
      "Hash of 'hash': 15\n",
      "Hash of 'function': 100\n",
      "Hash of '9': 57\n"
     ]
    }
   ],
   "source": [
    "def hash_function(s):\n",
    "    hashval = 0\n",
    "    for c in s:\n",
    "        hashval = ord(c) + 31 * hashval\n",
    "    return hashval % 101\n",
    "\n",
    "# Test function with example strings\n",
    "exampleWords = [\"hello\", \"world\", \"python\", \"programming\", \"hash\", \"function\", \"9\"]\n",
    "for s in exampleWords:\n",
    "    print(f\"Hash of '{s}': {hash_function(s)}\")"
   ]
  },
  {
   "cell_type": "markdown",
   "metadata": {},
   "source": [
    "### Why values 31 and 101?\n",
    "\n",
    "#### The Value 31\n",
    "- **Prime Number**: 31 is a prime number, which helps distribute hash values more evenly\n",
    "- **Near Power of 2**: 31 is close to 32 (2^5), which makes multiplication efficient on computers (31 * n = 32 * n - n = n << 5 - n)\n",
    "- **Empirical Performance**: In practice, 31 has been found to produce fewer collisions for typical string data\n",
    "- **Balance**: It's large enough to create good distribution but small enough to avoid overflow in 32-bit systems\n",
    "\n",
    "#### The Value 101\n",
    "- **Prime Modulus**: 101 is a prime number, which is ideal for the modulo operation in hash functions\n",
    "- **Table Size**: This suggests the original implementation was designed for a hash table with 101 slots\n",
    "- **Collision Reduction**: Prime moduli help distribute hash values more evenly across the hash table, reducing collisions\n",
    "- **Appropriate Scale**: 101 is large enough to be useful but small enough to be practical in the original C implementation\n",
    "\n",
    "The combination of multiplying by a prime (31) and taking the modulus by another prime (101) helps create a good distribution of hash values, which is essential for hash table performance."
   ]
  },
  {
   "cell_type": "markdown",
   "metadata": {},
   "source": [
    "## Task 3: SHA256"
   ]
  },
  {
   "cell_type": "markdown",
   "metadata": {},
   "source": [
    "### SHA-256 Description\n",
    "\n",
    "*Some of the next tasks will involve SHA-256, so here’s a brief description about it:*\n",
    "\n",
    "SHA-256 (Secure Hash Algorithm 256) is a cryptographic hash function in the SHA-2 family, defined by NIST in FIPS 180-4. It processes input data of any length and produces a 256-bit (32-byte) fixed-size output, typically rendered as a 64-character hexadecimal string. SHA-256 offers strong collision resistance, preimage resistance, and second-preimage resistance, making it a cornerstone of modern security protocols—used in everything from SSL/TLS to blockchain consensus mechanisms."
   ]
  },
  {
   "cell_type": "markdown",
   "metadata": {},
   "source": [
    "### Key Features\n",
    "\n",
    "1. **Fixed Output Size**:  \n",
    "    Always produces a 256-bit hash value.\n",
    "\n",
    "2. **Deterministic**:  \n",
    "    Same input always produces the same hash.\n",
    "\n",
    "3. **Collision Resistance**:  \n",
    "    Infeasible to find two inputs with the same hash.\n",
    "\n",
    "4. **Preimage Resistance**:  \n",
    "    Infeasible to reverse-engineer the input from the hash.\n",
    "\n",
    "5. **Second-Preimage Resistance**:  \n",
    "    Infeasible to find a different input with the same hash.\n",
    "\n",
    "6. **Avalanche Effect**:  \n",
    "    Small input changes result in drastically different hashes.\n",
    "\n",
    "7. **Wide Adoption**:  \n",
    "    Used in SSL/TLS, digital signatures, blockchain, and more."
   ]
  },
  {
   "cell_type": "markdown",
   "metadata": {},
   "source": [
    "### Applications\n",
    "\n",
    "- **Data Integrity Verification**:  \n",
    "  Ensures data has not been altered during transmission or storage.\n",
    "\n",
    "- **Digital Signatures**:  \n",
    "  Verifies authenticity and integrity of digital documents.\n",
    "\n",
    "- **Password Hashing**:  \n",
    "  Protects stored passwords by hashing them.\n",
    "\n",
    "- **Blockchain**:  \n",
    "  Used in mining and transaction verification.\n",
    "\n",
    "- **File Integrity Checks**:  \n",
    "  Verifies file integrity during downloads or transfers."
   ]
  },
  {
   "cell_type": "markdown",
   "metadata": {},
   "source": [
    "### Source\n",
    "\n",
    "- https://nvlpubs.nist.gov/nistpubs/FIPS/NIST.FIPS.180-4.pdf\n",
    "- https://csrc.nist.gov/glossary/term/sha_2"
   ]
  },
  {
   "cell_type": "markdown",
   "metadata": {},
   "source": [
    "### Introduction\n",
    "SHA256 (Secure Hash Algorithm 256-bit) is a cryptographic hash function that produces a 256-bit (32-byte) hash value. Before computing the hash, a specific padding scheme is applied to ensure the message length is a multiple of 512 bits.\n",
    "\n",
    "### Padding Requirements\n",
    "The SHA256 padding procedure consists of three components:\n",
    "\n",
    "1. **A single '1' bit**: Appended immediately after the message\n",
    "2. **Zero bits**: Added until the message length is congruent to 448 modulo 512 bits\n",
    "3. **64-bit length field**: The original message length in bits as a 64-bit big-endian integer\n",
    "\n",
    "This ensures the total length is a multiple of 512 bits, which is required for the SHA256 algorithm to process the message in fixed-size blocks.\n",
    "\n",
    "### Implementation\n",
    "The following functions calculate and display the padding that would be applied to a file:"
   ]
  },
  {
   "cell_type": "code",
   "execution_count": 79,
   "metadata": {},
   "outputs": [],
   "source": [
    "def calculate_sha256_padding(file_path):\n",
    "    # Get file size in bits\n",
    "    with open(file_path, 'rb') as f:\n",
    "        # Get file size in bytes\n",
    "        f.seek(0, 2)  # Go to the end of the file\n",
    "        file_size_bytes = f.tell()\n",
    "    \n",
    "    # Convert bytes to bits\n",
    "    file_size_bits = file_size_bytes * 8\n",
    "    \n",
    "    # Initialize padding with a single '1' bit followed by 7 zero bits\n",
    "    padding = bytearray([0x80])\n",
    "    \n",
    "    # Calculate how many zero bytes to add\n",
    "    # Message length needs to be congruent to 448 modulo 512 bits\n",
    "    # That's 56 bytes modulo 64 bytes\n",
    "    zero_bytes = (56 - ((file_size_bytes + 1) % 64)) % 64\n",
    "    \n",
    "    # Add zero bytes\n",
    "    padding.extend([0] * zero_bytes)\n",
    "    \n",
    "    # Add the original message length as a 64-bit integer\n",
    "    for i in range(8):\n",
    "        padding.append((file_size_bits >> (56 - i * 8)) & 0xFF)\n",
    "    \n",
    "    return padding"
   ]
  },
  {
   "cell_type": "code",
   "execution_count": 80,
   "metadata": {},
   "outputs": [],
   "source": [
    "def display_sha256_padding(padding):\n",
    "    hexValues = [f\"{b:02x}\" for b in padding]\n",
    "    \n",
    "    # Format with spaces and newlines for readability\n",
    "    formatted = \"\"\n",
    "    for i, hexVal in enumerate(hexValues):\n",
    "        formatted += hexVal + \" \"\n",
    "        if (i + 1) % 26 == 0:  # 26 bytes per line for readability\n",
    "            formatted += \"\\n\"\n",
    "    \n",
    "    print(formatted.strip())"
   ]
  },
  {
   "cell_type": "code",
   "execution_count": 81,
   "metadata": {},
   "outputs": [],
   "source": [
    "def sha256_padding(file_path):\n",
    "    padding = calculate_sha256_padding(file_path)\n",
    "    display_sha256_padding(padding)"
   ]
  },
  {
   "cell_type": "markdown",
   "metadata": {},
   "source": [
    "### Explanation of the SHA256 Padding Process\n",
    "\n",
    "The SHA256 padding ensures the message length is a multiple of 512 bits by adding:\n",
    "\n",
    "1. **A single '1' bit**: This is represented as the byte 0x80 (binary 10000000)\n",
    "2. **Zero bits**: Added until the message length is congruent to 448 modulo 512 bits\n",
    "3. **64-bit length field**: The original message length in bits encoded as a big-endian integer\n",
    "\n",
    "#### Example Calculation\n",
    "\n",
    "For a file containing \"abc\" (3 bytes = 24 bits):\n",
    "\n",
    "- First byte of padding: 0x80 (the '1' bit followed by 7 zero bits)\n",
    "- Zero bytes needed: 52 bytes\n",
    "  - Original message = 3 bytes\n",
    "  - We've added 1 byte (the 0x80)\n",
    "  - Target is 56 bytes (448 bits) before the length field\n",
    "  - Calculation: (56 - ((3 + 1) % 64)) % 64 = 52 zero bytes\n",
    "- Length field: 24 bits = 0x0000000000000018 (8 bytes)\n",
    "\n",
    "The complete padding (61 bytes total):"
   ]
  },
  {
   "cell_type": "code",
   "execution_count": 82,
   "metadata": {},
   "outputs": [
    {
     "name": "stdout",
     "output_type": "stream",
     "text": [
      "80 00 00 00 00 00 00 00 00 00 00 00 00 00 00 00 00 00 00 00 00 00 00 00 00 00 \n",
      "00 00 00 00 00 00 00 00 00 00 00 00 00 00 00 00 00 00 00 00 00 00 00 00 00 00 \n",
      "00 00 00 00 00 00 00 00 18\n"
     ]
    }
   ],
   "source": [
    "# Create a test file containing 'abc' (tasks.md example specification) \n",
    "# and calculate its SHA256 padding\n",
    "with open('resources/test_file.txt', 'w') as f:\n",
    "    f.write('abc')\n",
    "\n",
    "sha256_padding('resources/test_file.txt')"
   ]
  },
  {
   "cell_type": "markdown",
   "metadata": {},
   "source": [
    "## Task 4: Prime Numbers\n",
    "\n",
    "### Introduction\n",
    "A prime number is a natural number greater than 1 that cannot be formed by multiplying two smaller natural numbers. Prime numbers are fundamental to various fields including cryptography, where they serve as the building blocks for encryption algorithms like RSA.\n",
    "\n",
    "This task implements two different methods to find prime numbers:\n",
    "1. **Trial division** - A straightforward approach checking divisibility.\n",
    "2. **Precomputed list** - A lookup-based approach for efficiency.\n",
    "\n",
    "Both algorithms have different performance characteristics and use cases in computational applications."
   ]
  },
  {
   "cell_type": "markdown",
   "metadata": {},
   "source": [
    "### Why We Like Primes\n",
    "\n",
    "Prime numbers are fundamental to number theory because of the Fundamental Theorem of Arithmetic, which states that:\n",
    "\n",
    "> Every integer greater than 1 can be represented uniquely as a product of prime numbers (up to the order of the factors).\n",
    "\n",
    "For example:\n",
    "- 12 = 2² × 3\n",
    "- 60 = 2² × 3 × 5\n",
    "- 2310 = 2 × 3 × 5 × 7 × 11\n",
    "\n",
    "This theorem is why prime numbers are considered the \"building blocks\" of all natural numbers. This property makes them essential for:\n",
    "\n",
    "- **Cryptography**: RSA encryption relies on the difficulty of factoring large numbers into their prime components.\n",
    "- **Hash functions**: Prime numbers help create well-distributed hash values.\n",
    "- **Random number generation**: Prime-based algorithms produce high-quality pseudo-random sequences.\n",
    "- **Error correction codes**: Prime-based codes are used for reliable data transmission."
   ]
  },
  {
   "cell_type": "markdown",
   "metadata": {},
   "source": [
    "### Source\n",
    "- https://en.wikipedia.org/wiki/Fundamental_theorem_of_arithmetic"
   ]
  },
  {
   "cell_type": "code",
   "execution_count": 83,
   "metadata": {},
   "outputs": [
    {
     "name": "stdout",
     "output_type": "stream",
     "text": [
      "Method 1\n",
      "1 is not a prime number\n",
      "2 is a prime number\n",
      "5 is a prime number\n",
      "10 is not a prime number\n",
      "343 is not a prime number\n"
     ]
    }
   ],
   "source": [
    "# Method 1: Check if a number is prime by iterating through possible divisors\n",
    "print(\"Method 1\")\n",
    "\n",
    "# List of numbers to check\n",
    "numbers = [1, 2, 5, 10, 343]\n",
    "\n",
    "for num in numbers:\n",
    "    # Negative numbers, 0 and 1 are not primes\n",
    "    if num > 1:\n",
    "        # Iterate from 2 to n // 2\n",
    "        for i in range(2, (num // 2) + 1):\n",
    "            # If num is divisible by any number between 2 and n / 2, it is not prime\n",
    "            if (num % i) == 0:\n",
    "                print(num, \"is not a prime number\")\n",
    "                break\n",
    "        else:\n",
    "            print(num, \"is a prime number\")\n",
    "    else:\n",
    "        print(num, \"is not a prime number\")"
   ]
  },
  {
   "cell_type": "markdown",
   "metadata": {},
   "source": [
    "### Explanation of Method 1\n",
    "\n",
    "The first approach uses trial division to check if a number is prime.\n",
    "\n",
    "A number is prime if it's greater than 1 and cannot be divided evenly by any number from 2 to n/2.\n",
    "\n",
    "The algorithm checks each potential divisor and breaks as soon as one is found.\n",
    "\n",
    "Time complexity: O(n) for each number being tested.\n",
    "\n",
    "This method works well for small numbers but becomes inefficient for larger values.\n",
    "\n",
    "### Source\n",
    "\n",
    "- https://www.geeksforgeeks.org/python-program-to-check-whether-a-number-is-prime-or-not/"
   ]
  },
  {
   "cell_type": "code",
   "execution_count": 84,
   "metadata": {},
   "outputs": [
    {
     "name": "stdout",
     "output_type": "stream",
     "text": [
      "\n",
      "Method 2\n",
      "Is 2 a prime number? True\n",
      "Is 3 a prime number? True\n",
      "Is 5 a prime number? True\n",
      "Is 7 a prime number? True\n",
      "Is 11 a prime number? True\n",
      "Is 13 a prime number? True\n",
      "Is 17 a prime number? True\n",
      "Is 19 a prime number? True\n",
      "Is 23 a prime number? True\n",
      "Is 29 a prime number? True\n",
      "Is 31 a prime number? True\n",
      "Is 37 a prime number? True\n",
      "Is 41 a prime number? True\n",
      "Is 43 a prime number? True\n",
      "Is 47 a prime number? True\n"
     ]
    }
   ],
   "source": [
    "print(\"\\nMethod 2\")\n",
    "\n",
    "# Method 2: Check if 'num' is a prime number by checking its presence in 'primeNos'\n",
    "primeNos = [2, 3, 5, 7, 11, 13, 17, 19, 23, 29, 31, 37, 41, 43, 47, 53, 59, 61, 67, 71, 73, 79, 83, 89, 97, 101, 103, 107, 109, 113, 127, 131, 137, 139, 149, 151, 157, 163, 167, 173, 179, 181, 191, 193, 197, 199, 211, 223, 227, 229, 233, 239, 241, 251, 257, 263, 269, 271, 277, 281, 283, 293, 307, 311, 313, 317, 331, 337, 347, 349, 353, 359, 367, 373, 379, 383, 389, 397, 401, 409, 419, 421, 431, 433, 439, 443, 449, 457, 461, 463, 467, 479, 487, 491, 499, 503, 509, 521, 523, 541, 547, 557, 563, 569, 571, 577, 587, 593, 599, 601, 607, 613, 617, 619, 631, 641, 643, 647, 653, 659, 661, 673, 677, 683, 691, 701, 709, 719, 727, 733, 739, 743, 751, 757, 761, 769, 773, 787, 797, 809, 811, 821, 823, 827, 829, 839, 853, 857, 859, 863, 877, 881, 883, 887, 907, 911, 919, 929, 937, 941, 947, 953, 967, 971, 977, 983, 991, 997]\n",
    "\n",
    "# Display only the first 10 primes and their status\n",
    "for num in primeNos[:15]:\n",
    "    is_prime = num in primeNos\n",
    "    print(f\"Is {num} a prime number? {is_prime}\")"
   ]
  },
  {
   "cell_type": "markdown",
   "metadata": {},
   "source": [
    "### Explanation of Method 2\n",
    "\n",
    "The second approach uses a pre-computed list of prime numbers.\n",
    "\n",
    "This method is extremely fast (O(1) lookup time) but only works for numbers within the range of the list.\n",
    "\n",
    "The list includes the first 168 prime numbers up to 997.\n",
    "\n",
    "This approach is commonly used in cryptographic applications where known prime numbers are needed."
   ]
  },
  {
   "cell_type": "markdown",
   "metadata": {},
   "source": [
    "## Task 5: Roots"
   ]
  },
  {
   "cell_type": "code",
   "execution_count": 85,
   "metadata": {},
   "outputs": [],
   "source": [
    "import math\n",
    "\n",
    "def first_32_bits_of_fractional_part(number):\n",
    "    # Extract the fractional part of the number\n",
    "    fractional_part = number - math.floor(number)\n",
    "    # Convert the fractional part to the first 32 bits\n",
    "    first_32_bits = int(fractional_part * (2**32))\n",
    "    return first_32_bits"
   ]
  },
  {
   "cell_type": "code",
   "execution_count": 86,
   "metadata": {},
   "outputs": [],
   "source": [
    "def is_prime(n):\n",
    "    # Check if a number is prime\n",
    "    if n <= 1:\n",
    "        return False\n",
    "    if n <= 3:\n",
    "        return True\n",
    "    if n % 2 == 0 or n % 3 == 0:\n",
    "        return False\n",
    "    i = 5\n",
    "    while i * i <= n:\n",
    "        if n % i == 0 or n % (i + 2) == 0:\n",
    "            return False\n",
    "        i += 6\n",
    "    return True"
   ]
  },
  {
   "cell_type": "code",
   "execution_count": 87,
   "metadata": {},
   "outputs": [],
   "source": [
    "def first_n_primes(n):\n",
    "    # Generate the first n prime numbers\n",
    "    primes = []\n",
    "    num = 2\n",
    "    while len(primes) < n:\n",
    "        if is_prime(num):\n",
    "            primes.append(num)\n",
    "        num += 1\n",
    "    return primes"
   ]
  },
  {
   "cell_type": "code",
   "execution_count": 88,
   "metadata": {},
   "outputs": [],
   "source": [
    "def taskFive():\n",
    "    # Calculate the first 32 bits of the fractional part of the square root of the first 100 primes\n",
    "    primes = first_n_primes(100)\n",
    "    results = {}\n",
    "    for prime in primes:\n",
    "        sqrt_fractional_bits = first_32_bits_of_fractional_part(math.sqrt(prime))\n",
    "        results[prime] = f\"0x{sqrt_fractional_bits:08x}\"  # Format as hexadecimal\n",
    "    return results"
   ]
  },
  {
   "cell_type": "code",
   "execution_count": 89,
   "metadata": {},
   "outputs": [
    {
     "name": "stdout",
     "output_type": "stream",
     "text": [
      "Prime: 2, First 32 bits of fractional part of sqrt: 0x6a09e667\n",
      "Prime: 3, First 32 bits of fractional part of sqrt: 0xbb67ae85\n",
      "Prime: 5, First 32 bits of fractional part of sqrt: 0x3c6ef372\n",
      "Prime: 7, First 32 bits of fractional part of sqrt: 0xa54ff53a\n",
      "Prime: 11, First 32 bits of fractional part of sqrt: 0x510e527f\n",
      "Prime: 13, First 32 bits of fractional part of sqrt: 0x9b05688c\n",
      "Prime: 17, First 32 bits of fractional part of sqrt: 0x1f83d9ab\n",
      "Prime: 19, First 32 bits of fractional part of sqrt: 0x5be0cd19\n",
      "Prime: 23, First 32 bits of fractional part of sqrt: 0xcbbb9d5d\n",
      "Prime: 29, First 32 bits of fractional part of sqrt: 0x629a292a\n",
      "Prime: 31, First 32 bits of fractional part of sqrt: 0x9159015a\n",
      "Prime: 37, First 32 bits of fractional part of sqrt: 0x152fecd8\n",
      "Prime: 41, First 32 bits of fractional part of sqrt: 0x67332667\n",
      "Prime: 43, First 32 bits of fractional part of sqrt: 0x8eb44a87\n",
      "Prime: 47, First 32 bits of fractional part of sqrt: 0xdb0c2e0d\n",
      "Prime: 53, First 32 bits of fractional part of sqrt: 0x47b5481d\n",
      "Prime: 59, First 32 bits of fractional part of sqrt: 0xae5f9156\n",
      "Prime: 61, First 32 bits of fractional part of sqrt: 0xcf6c85d3\n",
      "Prime: 67, First 32 bits of fractional part of sqrt: 0x2f73477d\n",
      "Prime: 71, First 32 bits of fractional part of sqrt: 0x6d1826ca\n",
      "Prime: 73, First 32 bits of fractional part of sqrt: 0x8b43d457\n",
      "Prime: 79, First 32 bits of fractional part of sqrt: 0xe360b596\n",
      "Prime: 83, First 32 bits of fractional part of sqrt: 0x1c456002\n",
      "Prime: 89, First 32 bits of fractional part of sqrt: 0x6f196331\n",
      "Prime: 97, First 32 bits of fractional part of sqrt: 0xd94ebeb1\n",
      "Prime: 101, First 32 bits of fractional part of sqrt: 0x0cc4a611\n",
      "Prime: 103, First 32 bits of fractional part of sqrt: 0x261dc1f2\n",
      "Prime: 107, First 32 bits of fractional part of sqrt: 0x5815a7be\n",
      "Prime: 109, First 32 bits of fractional part of sqrt: 0x70b7ed67\n",
      "Prime: 113, First 32 bits of fractional part of sqrt: 0xa1513c69\n",
      "Prime: 127, First 32 bits of fractional part of sqrt: 0x44f93635\n",
      "Prime: 131, First 32 bits of fractional part of sqrt: 0x720dcdfd\n",
      "Prime: 137, First 32 bits of fractional part of sqrt: 0xb467369e\n",
      "Prime: 139, First 32 bits of fractional part of sqrt: 0xca320b75\n",
      "Prime: 149, First 32 bits of fractional part of sqrt: 0x34e0d42e\n",
      "Prime: 151, First 32 bits of fractional part of sqrt: 0x49c7d9bd\n",
      "Prime: 157, First 32 bits of fractional part of sqrt: 0x87abb9f2\n",
      "Prime: 163, First 32 bits of fractional part of sqrt: 0xc463a2fc\n",
      "Prime: 167, First 32 bits of fractional part of sqrt: 0xec3fc3f3\n",
      "Prime: 173, First 32 bits of fractional part of sqrt: 0x27277f6d\n",
      "Prime: 179, First 32 bits of fractional part of sqrt: 0x610bebf2\n",
      "Prime: 181, First 32 bits of fractional part of sqrt: 0x7420b49e\n",
      "Prime: 191, First 32 bits of fractional part of sqrt: 0xd1fd8a33\n",
      "Prime: 193, First 32 bits of fractional part of sqrt: 0xe4773594\n",
      "Prime: 197, First 32 bits of fractional part of sqrt: 0x092197f6\n",
      "Prime: 199, First 32 bits of fractional part of sqrt: 0x1b530c95\n",
      "Prime: 211, First 32 bits of fractional part of sqrt: 0x869d6342\n",
      "Prime: 223, First 32 bits of fractional part of sqrt: 0xeee52e4f\n",
      "Prime: 227, First 32 bits of fractional part of sqrt: 0x11076689\n",
      "Prime: 229, First 32 bits of fractional part of sqrt: 0x21fba37b\n",
      "Prime: 233, First 32 bits of fractional part of sqrt: 0x43ab9fb6\n",
      "Prime: 239, First 32 bits of fractional part of sqrt: 0x75a9f91d\n",
      "Prime: 241, First 32 bits of fractional part of sqrt: 0x86305019\n",
      "Prime: 251, First 32 bits of fractional part of sqrt: 0xd7cd8173\n",
      "Prime: 257, First 32 bits of fractional part of sqrt: 0x07fe00ff\n",
      "Prime: 263, First 32 bits of fractional part of sqrt: 0x379f513f\n",
      "Prime: 269, First 32 bits of fractional part of sqrt: 0x66b651a8\n",
      "Prime: 271, First 32 bits of fractional part of sqrt: 0x764ab842\n",
      "Prime: 277, First 32 bits of fractional part of sqrt: 0xa4b06be1\n",
      "Prime: 281, First 32 bits of fractional part of sqrt: 0xc3578c15\n",
      "Prime: 283, First 32 bits of fractional part of sqrt: 0xd2962a53\n",
      "Prime: 293, First 32 bits of fractional part of sqrt: 0x1e039f40\n",
      "Prime: 307, First 32 bits of fractional part of sqrt: 0x857b7bee\n",
      "Prime: 311, First 32 bits of fractional part of sqrt: 0xa29bf2de\n",
      "Prime: 313, First 32 bits of fractional part of sqrt: 0xb11a32e8\n",
      "Prime: 317, First 32 bits of fractional part of sqrt: 0xcdf34e80\n",
      "Prime: 331, First 32 bits of fractional part of sqrt: 0x31830426\n",
      "Prime: 337, First 32 bits of fractional part of sqrt: 0x5b89092b\n",
      "Prime: 347, First 32 bits of fractional part of sqrt: 0xa0c06a13\n",
      "Prime: 349, First 32 bits of fractional part of sqrt: 0xae79842f\n",
      "Prime: 353, First 32 bits of fractional part of sqrt: 0xc9cda689\n",
      "Prime: 359, First 32 bits of fractional part of sqrt: 0xf281f239\n",
      "Prime: 367, First 32 bits of fractional part of sqrt: 0x28412592\n",
      "Prime: 373, First 32 bits of fractional part of sqrt: 0x502e64db\n",
      "Prime: 379, First 32 bits of fractional part of sqrt: 0x77c9c211\n",
      "Prime: 383, First 32 bits of fractional part of sqrt: 0x9204cd9d\n",
      "Prime: 389, First 32 bits of fractional part of sqrt: 0xb91bf663\n",
      "Prime: 397, First 32 bits of fractional part of sqrt: 0xecc38c9d\n",
      "Prime: 401, First 32 bits of fractional part of sqrt: 0x06656095\n",
      "Prime: 409, First 32 bits of fractional part of sqrt: 0x39479381\n",
      "Prime: 419, First 32 bits of fractional part of sqrt: 0x78307697\n",
      "Prime: 421, First 32 bits of fractional part of sqrt: 0x84ae4b7c\n",
      "Prime: 431, First 32 bits of fractional part of sqrt: 0xc2b2b755\n",
      "Prime: 433, First 32 bits of fractional part of sqrt: 0xcf03d20e\n",
      "Prime: 439, First 32 bits of fractional part of sqrt: 0xf3cbb117\n",
      "Prime: 443, First 32 bits of fractional part of sqrt: 0x0c2d3b4b\n",
      "Prime: 449, First 32 bits of fractional part of sqrt: 0x308af161\n",
      "Prime: 457, First 32 bits of fractional part of sqrt: 0x60a7a998\n",
      "Prime: 461, First 32 bits of fractional part of sqrt: 0x788d9812\n",
      "Prime: 463, First 32 bits of fractional part of sqrt: 0x84769b42\n",
      "Prime: 467, First 32 bits of fractional part of sqrt: 0x9c34f062\n",
      "Prime: 479, First 32 bits of fractional part of sqrt: 0xe2d564c4\n",
      "Prime: 487, First 32 bits of fractional part of sqrt: 0x116d75fd\n",
      "Prime: 491, First 32 bits of fractional part of sqrt: 0x2894c107\n",
      "Prime: 499, First 32 bits of fractional part of sqrt: 0x569b58c6\n",
      "Prime: 503, First 32 bits of fractional part of sqrt: 0x6d7b3939\n",
      "Prime: 509, First 32 bits of fractional part of sqrt: 0x8f9f8dbb\n",
      "Prime: 521, First 32 bits of fractional part of sqrt: 0xd34f03cd\n",
      "Prime: 523, First 32 bits of fractional part of sqrt: 0xde8372ef\n",
      "Prime: 541, First 32 bits of fractional part of sqrt: 0x42687a39\n"
     ]
    }
   ],
   "source": [
    "# Display the results\n",
    "results = taskFive()\n",
    "for prime, hex_bits in results.items():\n",
    "    print(f\"Prime: {prime}, First 32 bits of fractional part of sqrt: {hex_bits}\")"
   ]
  },
  {
   "cell_type": "markdown",
   "metadata": {},
   "source": [
    "### Explanation of Root\n",
    "\n",
    "We identify prime numbers using a prime-checking function.\n",
    "\n",
    "For each prime number, we calculate its square root using Python's ```math.sqrt()``` function.\n",
    "\n",
    "We extract just the fractional part by subtracting the integer portion.\n",
    "\n",
    "This fractional part is then converted to the first 32 bits by:\n",
    "- Multiplying by 2^32\n",
    "- Converting to an integer (truncating any remaining fraction)"
   ]
  },
  {
   "cell_type": "markdown",
   "metadata": {},
   "source": [
    "### Why This Matters:\n",
    "\n",
    "- These constants are used in SHA-256 and other cryptographic hash functions.\n",
    "- Using the fractional parts of square roots of primes provides \"nothing up my sleeve\" numbers.\n",
    "- These values are believed to have no hidden structure that could weaken the hash function.\n",
    "- The first 8 values correspond to the initial hash values (H0 to H7) in the SHA-256 algorithm.\n",
    "\n",
    "The output is displayed in hexadecimal for readability and to match how these constants are typically represented in hash function specifications."
   ]
  },
  {
   "cell_type": "markdown",
   "metadata": {},
   "source": [
    "## Task 6: Proof of Work"
   ]
  },
  {
   "cell_type": "markdown",
   "metadata": {},
   "source": [
    "In this task, we aim to identify English words whose SHA-256 hash digests begin with the greatest number of zero bits. This process is analogous to a simplified proof-of-work system, where finding a digest with a certain number of leading zeros demonstrates computational effort."
   ]
  },
  {
   "cell_type": "code",
   "execution_count": 90,
   "metadata": {},
   "outputs": [],
   "source": [
    "import hashlib\n",
    "import urllib.request\n",
    "import random"
   ]
  },
  {
   "cell_type": "code",
   "execution_count": 91,
   "metadata": {},
   "outputs": [],
   "source": [
    "def get_english_words(url=\"https://raw.githubusercontent.com/dwyl/english-words/master/words_alpha.txt\"):\n",
    "    # Get words from a GitHub dictionary repository\n",
    "    with urllib.request.urlopen(url) as response:\n",
    "        content = response.read().decode('utf-8')\n",
    "    \n",
    "    # Split into words and filter out empty strings\n",
    "    words = [word.strip() for word in content.splitlines() if word.strip()]\n",
    "    return words"
   ]
  },
  {
   "cell_type": "markdown",
   "metadata": {},
   "source": [
    "- We fetch a large open-source English dictionary (words_alpha.txt).\n",
    "    - Originally used a local file called `words.txt` to do this task, changed to using a dictionary from a GitHub repository as it made my repo look cleaner.\n",
    "\n",
    "- Each line is a word we normalize by stripping whitespace.\n",
    "\n",
    "### Source\n",
    "\n",
    "- https://github.com/dwyl/english-words"
   ]
  },
  {
   "cell_type": "code",
   "execution_count": 92,
   "metadata": {},
   "outputs": [],
   "source": [
    "def count_leading_zero_bits(hash_bytes):\n",
    "    # Count leading zero bits in a hash byte array\n",
    "    zero_bits = 0\n",
    "    \n",
    "    # Process each byte\n",
    "    for byte in hash_bytes:\n",
    "        if byte == 0:\n",
    "            zero_bits += 8\n",
    "            continue\n",
    "            \n",
    "        # Count leading zeros in non-zero byte\n",
    "        mask = 0x80  # 10000000 in binary\n",
    "        while byte & mask == 0:\n",
    "            zero_bits += 1\n",
    "            mask >>= 1\n",
    "            \n",
    "        break  # Once we find a 1 bit, we're done\n",
    "        \n",
    "    return zero_bits"
   ]
  },
  {
   "cell_type": "markdown",
   "metadata": {},
   "source": [
    "- hash_hex is the 64-character hexadecimal SHA-256 digest.\n",
    "\n",
    "- We convert it to a 256-length binary string and count leading 0 bits."
   ]
  },
  {
   "cell_type": "code",
   "execution_count": 93,
   "metadata": {},
   "outputs": [],
   "source": [
    "def words_with_most_leading_zeros(word_list):\n",
    "    # Find words with the most leading zero bits in their SHA256 hash\n",
    "    max_zeros = 0\n",
    "    best_words = []\n",
    "    \n",
    "    for word in word_list:\n",
    "        word = word.strip().lower()\n",
    "        hash_hex = hashlib.sha256(word.encode()).hexdigest()\n",
    "        # Convert hex string to byte array\n",
    "        hash_bytes = bytes.fromhex(hash_hex)\n",
    "        leading_zeros = count_leading_zero_bits(hash_bytes)\n",
    "        \n",
    "        if leading_zeros > max_zeros:\n",
    "            max_zeros = leading_zeros\n",
    "            best_words = [word]\n",
    "        elif leading_zeros == max_zeros and leading_zeros > 0:\n",
    "            best_words.append(word)\n",
    "    \n",
    "    return best_words, max_zeros"
   ]
  },
  {
   "cell_type": "markdown",
   "metadata": {},
   "source": [
    "- We normalize each word (lowercase, no extra spaces).\n",
    "\n",
    "- Compute its SHA-256 digest and count leading zeros.\n",
    "\n",
    "- Track the maximum zero count and corresponding words."
   ]
  },
  {
   "cell_type": "code",
   "execution_count": 94,
   "metadata": {},
   "outputs": [
    {
     "name": "stdout",
     "output_type": "stream",
     "text": [
      "Downloaded 370105 English words\n",
      "Using 50000 words\n",
      "\n",
      "Words with most leading zero bits (16 bits):\n",
      "Word: 'guilefulness'\n",
      "SHA256: 0000d79e1c6964e6806e9bbdaaaecb63dfabdb498f72bf28944119de1fe90d63\n",
      "Binary prefix: 00000000000000001101011110011110...\n"
     ]
    }
   ],
   "source": [
    "def taskSix():\n",
    "    # Get random words\n",
    "    all_words = get_english_words()\n",
    "    print(f\"Downloaded {len(all_words)} English words\")\n",
    "    \n",
    "    # If the dictionary is too large, use a random sample\n",
    "    sample_size = min(50000, len(all_words))\n",
    "    print(f\"Using {sample_size} words\")\n",
    "    word_sample = random.sample(all_words, sample_size)\n",
    "    \n",
    "    # Find words with most leading zeros\n",
    "    best_words, max_zeros = words_with_most_leading_zeros(word_sample)\n",
    "    \n",
    "    # Display results\n",
    "    print(f\"\\nWords with most leading zero bits ({max_zeros} bits):\")\n",
    "    for word in best_words:\n",
    "        hash_hex = hashlib.sha256(word.encode()).hexdigest()\n",
    "        print(f\"Word: '{word}'\")\n",
    "        print(f\"SHA256: {hash_hex}\")\n",
    "        print(f\"Binary prefix: {bin(int(hash_hex[:16], 16))[2:].zfill(64)[:32]}...\")\n",
    "\n",
    "taskSix()"
   ]
  },
  {
   "cell_type": "markdown",
   "metadata": {},
   "source": [
    "### Explanation of Task 6: Proof of Work\n",
    "\n",
    "This task demonstrates a core concept behind blockchain proof-of-work algorithms. In cryptocurrencies like Bitcoin. Bitcoin miners compete to find a nonce that, when combined with block data and hashed, produces a result with a specific number of leading zeros.\n",
    "\n",
    "#### Concept:\n",
    "- Finding inputs that produce hash outputs with specific patterns is computationally intensive\n",
    "- There's no known way to predict which inputs will produce hashes with leading zeros\n",
    "- The only practical approach is to try many different inputs (brute force)\n",
    "- The probability of finding n leading zeros is approximately 1 in 2^n\n",
    "\n",
    "#### Implementation:\n",
    "- Instead of adding a nonce, we're searching through existing English words\n",
    "- We calculate SHA256 hashes for a large sample of words\n",
    "- We track words whose hash digests have the most leading zero bits\n",
    "- This simulates a simplified version of blockchain mining\n",
    "\n",
    "This demonstrates why proof-of-work is effective for consensus mechanisms - finding such patterns requires significant computational effort, but verifying them is trivial."
   ]
  },
  {
   "cell_type": "markdown",
   "metadata": {},
   "source": [
    "## Task 7: Turing Machines"
   ]
  },
  {
   "cell_type": "markdown",
   "metadata": {},
   "source": [
    "### What Is a Turing Machine?\n",
    "\n",
    "A Turing machine is a simple, abstract computational model introduced by Alan Turing in 1936. It consists of:\n",
    "\n",
    "1. **An infinite tape** divided into discrete cells, each of which can hold a symbol from a finite alphabet (e.g., `0`, `1`, and a blank symbol `_`).\n",
    "2. **A tape head** that can read the symbol in the current cell, write a new symbol in that cell, and move one cell left or right.\n",
    "3. **A finite set of states**, including a designated start state and one or more halting (accept/reject) states.\n",
    "4. **A transition function** that, based on the current state and the symbol under the head, specifies:\n",
    "   - Which symbol to write,\n",
    "   - Which direction to move the head (left or right),\n",
    "   - Which state to transition into next.\n",
    "\n",
    "Despite its simplicity, the Turing machine is powerful enough to model any computation that can be performed by modern computers. It serves as the foundation for the theory of computation and the concept of algorithmic decidability.\n",
    "\n",
    "\n",
    "### Source\n",
    "\n",
    "- https://plato.stanford.edu/entries/turing-machine/\n",
    "- https://www.geeksforgeeks.org/turing-machine-in-toc/"
   ]
  },
  {
   "cell_type": "code",
   "execution_count": 95,
   "metadata": {},
   "outputs": [
    {
     "name": "stdout",
     "output_type": "stream",
     "text": [
      "Input: 100111\n",
      "Output: 101000\n"
     ]
    }
   ],
   "source": [
    "def turingMachine(tape):\n",
    "    # Convert the tape to a list for mutability\n",
    "    tape = list(tape)\n",
    "    \n",
    "    # Find the starting position (leftmost non-blank symbol)\n",
    "    head = 0\n",
    "    while head < len(tape) and tape[head] == '_':\n",
    "        head += 1\n",
    "    \n",
    "    # If the tape is all blanks, return \"1\"\n",
    "    if head >= len(tape):\n",
    "        return \"1\"\n",
    "    \n",
    "    state = \"q0\"  # Initial state\n",
    "    \n",
    "    while state != \"q2\":\n",
    "        # Current symbol under the head\n",
    "        current_symbol = tape[head] if 0 <= head < len(tape) else '_'\n",
    "        \n",
    "        if state == \"q0\":  # Moving right to find the end\n",
    "            if current_symbol in (\"0\", \"1\"):\n",
    "                head += 1\n",
    "            elif current_symbol == \"_\":  # Found the end\n",
    "                head -= 1\n",
    "                state = \"q1\"\n",
    "        \n",
    "        elif state == \"q1\":  # Processing the addition\n",
    "            if current_symbol == \"0\":\n",
    "                # If we find a 0, change it to 1 and we're done (no carry)\n",
    "                if 0 <= head < len(tape):\n",
    "                    tape[head] = \"1\"\n",
    "                state = \"q2\"  # Halt\n",
    "            \n",
    "            elif current_symbol == \"1\":\n",
    "                # If we find a 1, change it to 0 and continue left (carry)\n",
    "                if 0 <= head < len(tape):\n",
    "                    tape[head] = \"0\"\n",
    "                head -= 1\n",
    "            \n",
    "            elif current_symbol == \"_\":\n",
    "                # We've moved past the beginning, need to add a new digit\n",
    "                # This happens when the original number was all 1's\n",
    "                if head < 0:\n",
    "                    # Insert a 1 at the beginning\n",
    "                    tape.insert(0, \"1\")\n",
    "                    head = 0\n",
    "                else:\n",
    "                    tape[head] = \"1\"\n",
    "                state = \"q2\"  # Halt\n",
    "    \n",
    "    # Remove leading blanks if any\n",
    "    result = \"\".join(tape)\n",
    "    result = result.lstrip('_')\n",
    "    \n",
    "    return result\n",
    "\n",
    "# Example usage of the Turing machine\n",
    "input_tape = \"100111_\"\n",
    "result = turingMachine(input_tape)\n",
    "print(f\"Input: {input_tape.rstrip('_')}\")\n",
    "print(f\"Output: {result.rstrip('_')}\")"
   ]
  },
  {
   "cell_type": "markdown",
   "metadata": {},
   "source": [
    "### Explanation of Turing task\n",
    "\n",
    "This task implements a Turing Machine that adds 1 to a binary number. A Turing Machine is a mathematical model of computation consisting of:\n",
    "\n",
    "- A tape divided into cells (our binary number plus a blank symbol '_')\n",
    "- A head that can read and write symbols on the tape and move left or right\n",
    "- A state register that stores the state of the Turing machine\n",
    "- A finite table of instructions"
   ]
  },
  {
   "cell_type": "markdown",
   "metadata": {},
   "source": [
    "States:\n",
    "\n",
    "q0: Initial state - scan right to find the end of the number\n",
    "\n",
    "q1: Add-one state - working from right to left, adding 1 with carry as needed\n",
    "\n",
    "q2: Final state - computation complete"
   ]
  },
  {
   "cell_type": "markdown",
   "metadata": {},
   "source": [
    "Algorithm:\n",
    "\n",
    "1. Start at the leftmost digit in state q0  \n",
    "2. Move right until reaching the blank symbol '_' (end of number)  \n",
    "3. Move left one position to the rightmost digit (least significant bit)  \n",
    "4. Switch to state q1 and begin addition:  \n",
    "    - If current bit is 0: change to 1 and terminate (no carry)  \n",
    "    - If current bit is 1: change to 0 and move left (carry the 1)  \n",
    "5. If we reach the blank symbol at the left: add a new 1 (as the most significant bit)  \n",
    "6. When addition is complete, switch to state q2 and terminate  \n",
    "7. The implementation handles edge cases like carrying beyond the most significant bit by adding a new digit when necessary.  \n"
   ]
  },
  {
   "cell_type": "markdown",
   "metadata": {},
   "source": [
    "## Task 8: Computational Complexity"
   ]
  },
  {
   "cell_type": "code",
   "execution_count": 96,
   "metadata": {},
   "outputs": [
    {
     "name": "stdout",
     "output_type": "stream",
     "text": [
      "Total number of permutations: 120\n",
      "Permutation -> Number of comparisons\n",
      "----------------------------------------\n",
      "[1, 2, 3, 4, 5] -> 4\n",
      "[1, 2, 3, 5, 4] -> 7\n",
      "[1, 2, 4, 3, 5] -> 7\n",
      "[1, 2, 4, 5, 3] -> 9\n",
      "[1, 2, 5, 3, 4] -> 7\n",
      "[1, 2, 5, 4, 3] -> 9\n",
      "[1, 3, 2, 4, 5] -> 7\n",
      "[1, 3, 2, 5, 4] -> 7\n",
      "[1, 3, 4, 2, 5] -> 9\n",
      "[1, 3, 4, 5, 2] -> 10\n",
      "[1, 3, 5, 2, 4] -> 9\n",
      "[1, 3, 5, 4, 2] -> 10\n",
      "[1, 4, 2, 3, 5] -> 7\n",
      "[1, 4, 2, 5, 3] -> 9\n",
      "[1, 4, 3, 2, 5] -> 9\n",
      "[1, 4, 3, 5, 2] -> 10\n",
      "[1, 4, 5, 2, 3] -> 9\n",
      "[1, 4, 5, 3, 2] -> 10\n",
      "[1, 5, 2, 3, 4] -> 7\n",
      "[1, 5, 2, 4, 3] -> 9\n",
      "[1, 5, 3, 2, 4] -> 9\n",
      "[1, 5, 3, 4, 2] -> 10\n",
      "[1, 5, 4, 2, 3] -> 9\n",
      "[1, 5, 4, 3, 2] -> 10\n",
      "[2, 1, 3, 4, 5] -> 7\n",
      "[2, 1, 3, 5, 4] -> 7\n",
      "[2, 1, 4, 3, 5] -> 7\n",
      "[2, 1, 4, 5, 3] -> 9\n",
      "[2, 1, 5, 3, 4] -> 7\n",
      "[2, 1, 5, 4, 3] -> 9\n",
      "[2, 3, 1, 4, 5] -> 9\n",
      "[2, 3, 1, 5, 4] -> 9\n",
      "[2, 3, 4, 1, 5] -> 10\n",
      "[2, 3, 4, 5, 1] -> 10\n",
      "[2, 3, 5, 1, 4] -> 10\n",
      "[2, 3, 5, 4, 1] -> 10\n",
      "[2, 4, 1, 3, 5] -> 9\n",
      "[2, 4, 1, 5, 3] -> 9\n",
      "[2, 4, 3, 1, 5] -> 10\n",
      "[2, 4, 3, 5, 1] -> 10\n",
      "[2, 4, 5, 1, 3] -> 10\n",
      "[2, 4, 5, 3, 1] -> 10\n",
      "[2, 5, 1, 3, 4] -> 9\n",
      "[2, 5, 1, 4, 3] -> 9\n",
      "[2, 5, 3, 1, 4] -> 10\n",
      "[2, 5, 3, 4, 1] -> 10\n",
      "[2, 5, 4, 1, 3] -> 10\n",
      "[2, 5, 4, 3, 1] -> 10\n",
      "[3, 1, 2, 4, 5] -> 7\n",
      "[3, 1, 2, 5, 4] -> 7\n",
      "[3, 1, 4, 2, 5] -> 9\n",
      "[3, 1, 4, 5, 2] -> 10\n",
      "[3, 1, 5, 2, 4] -> 9\n",
      "[3, 1, 5, 4, 2] -> 10\n",
      "[3, 2, 1, 4, 5] -> 9\n",
      "[3, 2, 1, 5, 4] -> 9\n",
      "[3, 2, 4, 1, 5] -> 10\n",
      "[3, 2, 4, 5, 1] -> 10\n",
      "[3, 2, 5, 1, 4] -> 10\n",
      "[3, 2, 5, 4, 1] -> 10\n",
      "[3, 4, 1, 2, 5] -> 9\n",
      "[3, 4, 1, 5, 2] -> 10\n",
      "[3, 4, 2, 1, 5] -> 10\n",
      "[3, 4, 2, 5, 1] -> 10\n",
      "[3, 4, 5, 1, 2] -> 10\n",
      "[3, 4, 5, 2, 1] -> 10\n",
      "[3, 5, 1, 2, 4] -> 9\n",
      "[3, 5, 1, 4, 2] -> 10\n",
      "[3, 5, 2, 1, 4] -> 10\n",
      "[3, 5, 2, 4, 1] -> 10\n",
      "[3, 5, 4, 1, 2] -> 10\n",
      "[3, 5, 4, 2, 1] -> 10\n",
      "[4, 1, 2, 3, 5] -> 7\n",
      "[4, 1, 2, 5, 3] -> 9\n",
      "[4, 1, 3, 2, 5] -> 9\n",
      "[4, 1, 3, 5, 2] -> 10\n",
      "[4, 1, 5, 2, 3] -> 9\n",
      "[4, 1, 5, 3, 2] -> 10\n",
      "[4, 2, 1, 3, 5] -> 9\n",
      "[4, 2, 1, 5, 3] -> 9\n",
      "[4, 2, 3, 1, 5] -> 10\n",
      "[4, 2, 3, 5, 1] -> 10\n",
      "[4, 2, 5, 1, 3] -> 10\n",
      "[4, 2, 5, 3, 1] -> 10\n",
      "[4, 3, 1, 2, 5] -> 9\n",
      "[4, 3, 1, 5, 2] -> 10\n",
      "[4, 3, 2, 1, 5] -> 10\n",
      "[4, 3, 2, 5, 1] -> 10\n",
      "[4, 3, 5, 1, 2] -> 10\n",
      "[4, 3, 5, 2, 1] -> 10\n",
      "[4, 5, 1, 2, 3] -> 9\n",
      "[4, 5, 1, 3, 2] -> 10\n",
      "[4, 5, 2, 1, 3] -> 10\n",
      "[4, 5, 2, 3, 1] -> 10\n",
      "[4, 5, 3, 1, 2] -> 10\n",
      "[4, 5, 3, 2, 1] -> 10\n",
      "[5, 1, 2, 3, 4] -> 7\n",
      "[5, 1, 2, 4, 3] -> 9\n",
      "[5, 1, 3, 2, 4] -> 9\n",
      "[5, 1, 3, 4, 2] -> 10\n",
      "[5, 1, 4, 2, 3] -> 9\n",
      "[5, 1, 4, 3, 2] -> 10\n",
      "[5, 2, 1, 3, 4] -> 9\n",
      "[5, 2, 1, 4, 3] -> 9\n",
      "[5, 2, 3, 1, 4] -> 10\n",
      "[5, 2, 3, 4, 1] -> 10\n",
      "[5, 2, 4, 1, 3] -> 10\n",
      "[5, 2, 4, 3, 1] -> 10\n",
      "[5, 3, 1, 2, 4] -> 9\n",
      "[5, 3, 1, 4, 2] -> 10\n",
      "[5, 3, 2, 1, 4] -> 10\n",
      "[5, 3, 2, 4, 1] -> 10\n",
      "[5, 3, 4, 1, 2] -> 10\n",
      "[5, 3, 4, 2, 1] -> 10\n",
      "[5, 4, 1, 2, 3] -> 9\n",
      "[5, 4, 1, 3, 2] -> 10\n",
      "[5, 4, 2, 1, 3] -> 10\n",
      "[5, 4, 2, 3, 1] -> 10\n",
      "[5, 4, 3, 1, 2] -> 10\n",
      "[5, 4, 3, 2, 1] -> 10\n",
      "----------------------------------------\n",
      "Average comparisons: 9.26\n",
      "Minimum comparisons: 4\n",
      "Maximum comparisons: 10\n"
     ]
    }
   ],
   "source": [
    "import itertools\n",
    "\n",
    "def bubble_sort(arr):\n",
    "    # Create a copy to avoid modifying the original list\n",
    "    arr = arr.copy()\n",
    "    n = len(arr)\n",
    "    comparisons = 0\n",
    "    \n",
    "    for i in range(n):\n",
    "        # Flag to optimize if no swaps occur in a pass\n",
    "        swapped = False\n",
    "        \n",
    "        for j in range(0, n - i - 1):\n",
    "            comparisons += 1  # Count comparison\n",
    "            if arr[j] > arr[j + 1]:\n",
    "                arr[j], arr[j + 1] = arr[j + 1], arr[j]\n",
    "                swapped = True\n",
    "                \n",
    "        # If no swapping occurred in this pass, array is sorted\n",
    "        if not swapped:\n",
    "            break\n",
    "            \n",
    "    return arr, comparisons\n",
    "\n",
    "# Original list\n",
    "L = [1, 2, 3, 4, 5]\n",
    "\n",
    "# Generate all permutations\n",
    "all_permutations = list(itertools.permutations(L))\n",
    "\n",
    "# Sort each permutation and count comparisons\n",
    "print(f\"Total number of permutations: {len(all_permutations)}\")\n",
    "print(\"Permutation -> Number of comparisons\")\n",
    "print(\"-\" * 40)\n",
    "\n",
    "for perm in all_permutations:\n",
    "    perm = list(perm)\n",
    "    _, count = bubble_sort(perm)\n",
    "    print(f\"{perm} -> {count}\")\n",
    "\n",
    "# Let's also calculate some statistics\n",
    "counts = [bubble_sort(list(perm))[1] for perm in all_permutations]\n",
    "print(\"-\" * 40)\n",
    "print(f\"Average comparisons: {sum(counts)/len(counts):.2f}\")\n",
    "print(f\"Minimum comparisons: {min(counts)}\")\n",
    "print(f\"Maximum comparisons: {max(counts)}\")"
   ]
  },
  {
   "cell_type": "markdown",
   "metadata": {},
   "source": [
    "### Explanation of Task 8\n",
    "\n",
    "This task analyzes the computational complexity of bubble sort by counting comparisons across different input permutations."
   ]
  },
  {
   "cell_type": "markdown",
   "metadata": {},
   "source": [
    "#### Bubble Sort Algorithm:\n",
    "\n",
    "Repeatedly steps through the list, comparing adjacent elements and swapping them if they're in the wrong order\n",
    "\n",
    "With each pass, the largest unsorted element \"bubbles\" to its correct position\n",
    "Continues until no swaps are needed in a pass, indicating the list is sorted"
   ]
  },
  {
   "cell_type": "markdown",
   "metadata": {},
   "source": [
    "#### Implementation Details:\n",
    "\n",
    "The optimized bubble sort includes an early termination flag (swapped)\n",
    "A counter tracks each comparison operation\n",
    "\n",
    "All 120 permutations (5!) of [1,2,3,4,5] are generated and sorted\n",
    "For each permutation, we record the number of comparisons required"
   ]
  },
  {
   "cell_type": "markdown",
   "metadata": {},
   "source": [
    "#### Analysis of Results:\n",
    "\n",
    "- Best case: 4 comparisons (for already sorted list [1,2,3,4,5])\n",
    "\n",
    "- Worst case: 10 comparisons (for lists with elements far from their sorted positions)\n",
    "\n",
    "- Average case: 9.26 comparisons"
   ]
  },
  {
   "cell_type": "markdown",
   "metadata": {},
   "source": [
    "This demonstrates how the initial ordering significantly affects bubble sort's performance:\n",
    "\n",
    "Already sorted or nearly sorted lists perform much better\n",
    "\n",
    "Reverse-sorted lists or those with elements far from their final positions perform worse\n",
    "\n",
    "Bubble sort has O(n²) worst-case time complexity, but can achieve O(n) in the best case\n",
    "\n",
    "The variation in comparison counts clearly illustrates why bubble sort is inefficient for large datasets but may be suitable for small or nearly-sorted lists."
   ]
  }
 ],
 "metadata": {
  "kernelspec": {
   "display_name": "Python 3",
   "language": "python",
   "name": "python3"
  },
  "language_info": {
   "codemirror_mode": {
    "name": "ipython",
    "version": 3
   },
   "file_extension": ".py",
   "mimetype": "text/x-python",
   "name": "python",
   "nbconvert_exporter": "python",
   "pygments_lexer": "ipython3",
   "version": "3.12.1"
  }
 },
 "nbformat": 4,
 "nbformat_minor": 2
}
