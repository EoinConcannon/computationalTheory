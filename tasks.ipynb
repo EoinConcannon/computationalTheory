{
 "cells": [
  {
   "cell_type": "markdown",
   "metadata": {},
   "source": [
    "## Task 1: Binary Representations"
   ]
  },
  {
   "cell_type": "markdown",
   "metadata": {},
   "source": [
    "### Binary Representations Functions\n",
    "\n",
    "#### Function `rotl(x, n=1)`\n",
    "This function rotates the bits in a 32-bit unsigned integer `x` to the left by `n` places. The leftmost bits that are shifted out are reintroduced at the rightmost positions.\n",
    "\n",
    "#### Example\n",
    "```python\n",
    "rotl(0b00000000000000000000000000000001, 1)  # Output: 0b00000000000000000000000000000010"
   ]
  },
  {
   "cell_type": "markdown",
   "metadata": {},
   "source": [
    "#### Function rotr(x, n=1)\n",
    "\n",
    "This function rotates the bits in a 32-bit unsigned integer x to the right by n places. The rightmost bits that are shifted out are reintroduced at the leftmost positions."
   ]
  },
  {
   "cell_type": "code",
   "execution_count": 1,
   "metadata": {},
   "outputs": [
    {
     "name": "stdout",
     "output_type": "stream",
     "text": [
      "rotl(0b00000000000000000000000000000001, 1): 0b10\n",
      "rotr(0b00000000000000000000000000000010, 1): 0b1\n",
      "ch(0b1010, 0b1100, 0b0011): 0b1001\n",
      "maj(0b1010, 0b1100, 0b1001): 0b1000\n"
     ]
    }
   ],
   "source": [
    "def rotl(x, n=1):\n",
    "    return ((x << n) & 0xFFFFFFFF) | (x >> (32 - n))\n",
    "\n",
    "def rotr(x, n=1):\n",
    "    return (x >> n) | ((x << (32 - n)) & 0xFFFFFFFF)\n",
    "\n",
    "def ch(x, y, z):\n",
    "    return (x & y) | (~x & z)\n",
    "\n",
    "def maj(x, y, z):\n",
    "    return (x & y) | (x & z) | (y & z)\n",
    "\n",
    "# Example and Tests\n",
    "if __name__ == \"__main__\":\n",
    "    # rotl\n",
    "    print(f\"rotl(0b00000000000000000000000000000001, 1): {bin(rotl(0b00000000000000000000000000000001, 1))}\")\n",
    "    # rotr\n",
    "    print(f\"rotr(0b00000000000000000000000000000010, 1): {bin(rotr(0b00000000000000000000000000000010, 1))}\")\n",
    "    # ch\n",
    "    print(f\"ch(0b1010, 0b1100, 0b0011): {bin(ch(0b1010, 0b1100, 0b0011))}\")\n",
    "    # maj\n",
    "    print(f\"maj(0b1010, 0b1100, 0b1001): {bin(maj(0b1010, 0b1100, 0b1001))}\")"
   ]
  },
  {
   "cell_type": "markdown",
   "metadata": {},
   "source": [
    "## Task 2: Hash Functions"
   ]
  },
  {
   "cell_type": "code",
   "execution_count": null,
   "metadata": {},
   "outputs": [],
   "source": []
  },
  {
   "cell_type": "markdown",
   "metadata": {},
   "source": [
    "## Task 3: SHA256"
   ]
  },
  {
   "cell_type": "code",
   "execution_count": null,
   "metadata": {},
   "outputs": [],
   "source": []
  },
  {
   "cell_type": "markdown",
   "metadata": {},
   "source": [
    "## Task 4: Prime Numbers"
   ]
  },
  {
   "cell_type": "code",
   "execution_count": null,
   "metadata": {},
   "outputs": [],
   "source": []
  },
  {
   "cell_type": "markdown",
   "metadata": {},
   "source": [
    "## Task 5: Roots"
   ]
  },
  {
   "cell_type": "code",
   "execution_count": null,
   "metadata": {},
   "outputs": [],
   "source": []
  },
  {
   "cell_type": "markdown",
   "metadata": {},
   "source": [
    "## Task 6: Proof of Work"
   ]
  },
  {
   "cell_type": "code",
   "execution_count": null,
   "metadata": {},
   "outputs": [],
   "source": []
  },
  {
   "cell_type": "markdown",
   "metadata": {},
   "source": [
    "## Task 7: Turing Machines"
   ]
  },
  {
   "cell_type": "code",
   "execution_count": null,
   "metadata": {},
   "outputs": [],
   "source": []
  },
  {
   "cell_type": "markdown",
   "metadata": {},
   "source": [
    "## Task 8: Computational Complexity"
   ]
  },
  {
   "cell_type": "code",
   "execution_count": null,
   "metadata": {},
   "outputs": [],
   "source": []
  }
 ],
 "metadata": {
  "kernelspec": {
   "display_name": "Python 3",
   "language": "python",
   "name": "python3"
  },
  "language_info": {
   "codemirror_mode": {
    "name": "ipython",
    "version": 3
   },
   "file_extension": ".py",
   "mimetype": "text/x-python",
   "name": "python",
   "nbconvert_exporter": "python",
   "pygments_lexer": "ipython3",
   "version": "3.12.1"
  }
 },
 "nbformat": 4,
 "nbformat_minor": 2
}
